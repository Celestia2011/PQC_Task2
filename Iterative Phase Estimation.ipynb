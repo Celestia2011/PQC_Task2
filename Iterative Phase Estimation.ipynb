{
  "cells": [
    {
      "cell_type": "code",
      "source": [],
      "metadata": {
        "id": "UP7rMPz10Fhg"
      },
      "execution_count": null,
      "outputs": []
    },
    {
      "cell_type": "markdown",
      "metadata": {
        "id": "WBVepy2Eb4tG"
      },
      "source": [
        "# Lab 6 Iterative Phase Estimation Algorithm"
      ]
    },
    {
      "cell_type": "markdown",
      "metadata": {
        "id": "WY6flrnlb4tJ"
      },
      "source": [
        "Prerequisite\n",
        "- [Ch.3.5 Quantum Fourier Transform](/course/ch-algorithms/quantum-fourier-transform)\n",
        "- [Ch.3.6 Quantum Phase Estimation](/course/ch-algorithms/quantum-phase-estimation)\n",
        "- [Ch.1.4 Single Qubit Gates](/course/ch-states/single-qubit-gates)\n",
        "- [Summary of Quantum Operations](https://qiskit.org/documentation/tutorials/circuits/3_summary_of_quantum_operations.html)\n",
        "\n",
        "Other relevant materials\n",
        "- [Device backend noise model simulations](https://qiskit.org/documentation/tutorials/simulators/2_device_noise_simulation.html)\n",
        "- [Hellinger fidelity](https://qiskit.org/documentation/stubs/qiskit.quantum_info.hellinger_fidelity.html#qiskit.quantum_info.hellinger_fidelity)"
      ]
    },
    {
      "cell_type": "code",
      "source": [
        "!pip install qiskit==0.36.0"
      ],
      "metadata": {
        "id": "Nm3xC8m4cFIh",
        "colab": {
          "base_uri": "https://localhost:8080/"
        },
        "outputId": "b1dc7a5e-28e4-46dd-901a-bf4de3805ae9"
      },
      "execution_count": null,
      "outputs": [
        {
          "output_type": "stream",
          "name": "stdout",
          "text": [
            "Collecting qiskit==0.36.0\n",
            "  Downloading qiskit-0.36.0.tar.gz (13 kB)\n",
            "  Preparing metadata (setup.py) ... \u001b[?25l\u001b[?25hdone\n",
            "Collecting qiskit-terra==0.20.0 (from qiskit==0.36.0)\n",
            "  Downloading qiskit_terra-0.20.0-cp310-cp310-manylinux_2_17_x86_64.manylinux2014_x86_64.whl.metadata (8.4 kB)\n",
            "Collecting qiskit-aer==0.10.4 (from qiskit==0.36.0)\n",
            "  Downloading qiskit_aer-0.10.4-cp310-cp310-manylinux_2_17_x86_64.manylinux2014_x86_64.whl.metadata (6.4 kB)\n",
            "Collecting qiskit-ibmq-provider==0.19.0 (from qiskit==0.36.0)\n",
            "  Downloading qiskit_ibmq_provider-0.19.0-py3-none-any.whl.metadata (11 kB)\n",
            "Collecting qiskit-ignis==0.7.0 (from qiskit==0.36.0)\n",
            "  Downloading qiskit_ignis-0.7.0-py3-none-any.whl.metadata (10 kB)\n",
            "Requirement already satisfied: numpy>=1.16.3 in /usr/local/lib/python3.10/dist-packages (from qiskit-aer==0.10.4->qiskit==0.36.0) (1.26.4)\n",
            "Requirement already satisfied: scipy>=1.0 in /usr/local/lib/python3.10/dist-packages (from qiskit-aer==0.10.4->qiskit==0.36.0) (1.13.1)\n",
            "Requirement already satisfied: requests>=2.19 in /usr/local/lib/python3.10/dist-packages (from qiskit-ibmq-provider==0.19.0->qiskit==0.36.0) (2.32.3)\n",
            "Collecting requests-ntlm>=1.1.0 (from qiskit-ibmq-provider==0.19.0->qiskit==0.36.0)\n",
            "  Downloading requests_ntlm-1.3.0-py3-none-any.whl.metadata (2.4 kB)\n",
            "Requirement already satisfied: urllib3>=1.21.1 in /usr/local/lib/python3.10/dist-packages (from qiskit-ibmq-provider==0.19.0->qiskit==0.36.0) (2.2.3)\n",
            "Requirement already satisfied: python-dateutil>=2.8.0 in /usr/local/lib/python3.10/dist-packages (from qiskit-ibmq-provider==0.19.0->qiskit==0.36.0) (2.8.2)\n",
            "Requirement already satisfied: websocket-client>=1.0.1 in /usr/local/lib/python3.10/dist-packages (from qiskit-ibmq-provider==0.19.0->qiskit==0.36.0) (1.8.0)\n",
            "Collecting websockets>=10.0 (from qiskit-ibmq-provider==0.19.0->qiskit==0.36.0)\n",
            "  Downloading websockets-13.1-cp310-cp310-manylinux_2_5_x86_64.manylinux1_x86_64.manylinux_2_17_x86_64.manylinux2014_x86_64.whl.metadata (6.8 kB)\n",
            "Collecting retworkx>=0.8.0 (from qiskit-ignis==0.7.0->qiskit==0.36.0)\n",
            "  Downloading retworkx-0.15.1-py3-none-any.whl.metadata (10 kB)\n",
            "Requirement already satisfied: setuptools>=40.1.0 in /usr/local/lib/python3.10/dist-packages (from qiskit-ignis==0.7.0->qiskit==0.36.0) (71.0.4)\n",
            "Collecting ply>=3.10 (from qiskit-terra==0.20.0->qiskit==0.36.0)\n",
            "  Downloading ply-3.11-py2.py3-none-any.whl.metadata (844 bytes)\n",
            "Requirement already satisfied: psutil>=5 in /usr/local/lib/python3.10/dist-packages (from qiskit-terra==0.20.0->qiskit==0.36.0) (5.9.5)\n",
            "Requirement already satisfied: sympy>=1.3 in /usr/local/lib/python3.10/dist-packages (from qiskit-terra==0.20.0->qiskit==0.36.0) (1.13.3)\n",
            "Collecting dill>=0.3 (from qiskit-terra==0.20.0->qiskit==0.36.0)\n",
            "  Downloading dill-0.3.9-py3-none-any.whl.metadata (10 kB)\n",
            "Collecting python-constraint>=1.4 (from qiskit-terra==0.20.0->qiskit==0.36.0)\n",
            "  Downloading python-constraint-1.4.0.tar.bz2 (18 kB)\n",
            "  Preparing metadata (setup.py) ... \u001b[?25l\u001b[?25hdone\n",
            "Collecting stevedore>=3.0.0 (from qiskit-terra==0.20.0->qiskit==0.36.0)\n",
            "  Downloading stevedore-5.3.0-py3-none-any.whl.metadata (2.3 kB)\n",
            "Collecting tweedledum<2.0,>=1.1 (from qiskit-terra==0.20.0->qiskit==0.36.0)\n",
            "  Downloading tweedledum-1.1.1-cp310-cp310-manylinux_2_12_x86_64.manylinux2010_x86_64.whl.metadata (10.0 kB)\n",
            "Collecting symengine>=0.9 (from qiskit-terra==0.20.0->qiskit==0.36.0)\n",
            "  Downloading symengine-0.13.0-cp310-cp310-manylinux_2_17_x86_64.manylinux2014_x86_64.whl.metadata (1.2 kB)\n",
            "Requirement already satisfied: six>=1.5 in /usr/local/lib/python3.10/dist-packages (from python-dateutil>=2.8.0->qiskit-ibmq-provider==0.19.0->qiskit==0.36.0) (1.16.0)\n",
            "Requirement already satisfied: charset-normalizer<4,>=2 in /usr/local/lib/python3.10/dist-packages (from requests>=2.19->qiskit-ibmq-provider==0.19.0->qiskit==0.36.0) (3.3.2)\n",
            "Requirement already satisfied: idna<4,>=2.5 in /usr/local/lib/python3.10/dist-packages (from requests>=2.19->qiskit-ibmq-provider==0.19.0->qiskit==0.36.0) (3.10)\n",
            "Requirement already satisfied: certifi>=2017.4.17 in /usr/local/lib/python3.10/dist-packages (from requests>=2.19->qiskit-ibmq-provider==0.19.0->qiskit==0.36.0) (2024.8.30)\n",
            "Requirement already satisfied: cryptography>=1.3 in /usr/local/lib/python3.10/dist-packages (from requests-ntlm>=1.1.0->qiskit-ibmq-provider==0.19.0->qiskit==0.36.0) (43.0.1)\n",
            "Collecting pyspnego>=0.4.0 (from requests-ntlm>=1.1.0->qiskit-ibmq-provider==0.19.0->qiskit==0.36.0)\n",
            "  Downloading pyspnego-0.11.1-py3-none-any.whl.metadata (5.4 kB)\n",
            "Collecting rustworkx==0.15.1 (from retworkx>=0.8.0->qiskit-ignis==0.7.0->qiskit==0.36.0)\n",
            "  Downloading rustworkx-0.15.1-cp38-abi3-manylinux_2_17_x86_64.manylinux2014_x86_64.whl.metadata (9.9 kB)\n",
            "Collecting pbr>=2.0.0 (from stevedore>=3.0.0->qiskit-terra==0.20.0->qiskit==0.36.0)\n",
            "  Downloading pbr-6.1.0-py2.py3-none-any.whl.metadata (3.4 kB)\n",
            "Requirement already satisfied: mpmath<1.4,>=1.1.0 in /usr/local/lib/python3.10/dist-packages (from sympy>=1.3->qiskit-terra==0.20.0->qiskit==0.36.0) (1.3.0)\n",
            "Requirement already satisfied: cffi>=1.12 in /usr/local/lib/python3.10/dist-packages (from cryptography>=1.3->requests-ntlm>=1.1.0->qiskit-ibmq-provider==0.19.0->qiskit==0.36.0) (1.17.1)\n",
            "Requirement already satisfied: pycparser in /usr/local/lib/python3.10/dist-packages (from cffi>=1.12->cryptography>=1.3->requests-ntlm>=1.1.0->qiskit-ibmq-provider==0.19.0->qiskit==0.36.0) (2.22)\n",
            "Downloading qiskit_aer-0.10.4-cp310-cp310-manylinux_2_17_x86_64.manylinux2014_x86_64.whl (19.1 MB)\n",
            "\u001b[2K   \u001b[90m━━━━━━━━━━━━━━━━━━━━━━━━━━━━━━━━━━━━━━━━\u001b[0m \u001b[32m19.1/19.1 MB\u001b[0m \u001b[31m27.0 MB/s\u001b[0m eta \u001b[36m0:00:00\u001b[0m\n",
            "\u001b[?25hDownloading qiskit_ibmq_provider-0.19.0-py3-none-any.whl (240 kB)\n",
            "\u001b[2K   \u001b[90m━━━━━━━━━━━━━━━━━━━━━━━━━━━━━━━━━━━━━━━━\u001b[0m \u001b[32m240.0/240.0 kB\u001b[0m \u001b[31m11.1 MB/s\u001b[0m eta \u001b[36m0:00:00\u001b[0m\n",
            "\u001b[?25hDownloading qiskit_ignis-0.7.0-py3-none-any.whl (200 kB)\n",
            "\u001b[2K   \u001b[90m━━━━━━━━━━━━━━━━━━━━━━━━━━━━━━━━━━━━━━━━\u001b[0m \u001b[32m200.9/200.9 kB\u001b[0m \u001b[31m7.3 MB/s\u001b[0m eta \u001b[36m0:00:00\u001b[0m\n",
            "\u001b[?25hDownloading qiskit_terra-0.20.0-cp310-cp310-manylinux_2_17_x86_64.manylinux2014_x86_64.whl (6.5 MB)\n",
            "\u001b[2K   \u001b[90m━━━━━━━━━━━━━━━━━━━━━━━━━━━━━━━━━━━━━━━━\u001b[0m \u001b[32m6.5/6.5 MB\u001b[0m \u001b[31m51.6 MB/s\u001b[0m eta \u001b[36m0:00:00\u001b[0m\n",
            "\u001b[?25hDownloading dill-0.3.9-py3-none-any.whl (119 kB)\n",
            "\u001b[2K   \u001b[90m━━━━━━━━━━━━━━━━━━━━━━━━━━━━━━━━━━━━━━━━\u001b[0m \u001b[32m119.4/119.4 kB\u001b[0m \u001b[31m6.4 MB/s\u001b[0m eta \u001b[36m0:00:00\u001b[0m\n",
            "\u001b[?25hDownloading ply-3.11-py2.py3-none-any.whl (49 kB)\n",
            "\u001b[2K   \u001b[90m━━━━━━━━━━━━━━━━━━━━━━━━━━━━━━━━━━━━━━━━\u001b[0m \u001b[32m49.6/49.6 kB\u001b[0m \u001b[31m3.5 MB/s\u001b[0m eta \u001b[36m0:00:00\u001b[0m\n",
            "\u001b[?25hDownloading requests_ntlm-1.3.0-py3-none-any.whl (6.6 kB)\n",
            "Downloading retworkx-0.15.1-py3-none-any.whl (10 kB)\n",
            "Downloading rustworkx-0.15.1-cp38-abi3-manylinux_2_17_x86_64.manylinux2014_x86_64.whl (2.0 MB)\n",
            "\u001b[2K   \u001b[90m━━━━━━━━━━━━━━━━━━━━━━━━━━━━━━━━━━━━━━━━\u001b[0m \u001b[32m2.0/2.0 MB\u001b[0m \u001b[31m13.1 MB/s\u001b[0m eta \u001b[36m0:00:00\u001b[0m\n",
            "\u001b[?25hDownloading stevedore-5.3.0-py3-none-any.whl (49 kB)\n",
            "\u001b[2K   \u001b[90m━━━━━━━━━━━━━━━━━━━━━━━━━━━━━━━━━━━━━━━━\u001b[0m \u001b[32m49.7/49.7 kB\u001b[0m \u001b[31m3.3 MB/s\u001b[0m eta \u001b[36m0:00:00\u001b[0m\n",
            "\u001b[?25hDownloading symengine-0.13.0-cp310-cp310-manylinux_2_17_x86_64.manylinux2014_x86_64.whl (49.7 MB)\n",
            "\u001b[2K   \u001b[90m━━━━━━━━━━━━━━━━━━━━━━━━━━━━━━━━━━━━━━━━\u001b[0m \u001b[32m49.7/49.7 MB\u001b[0m \u001b[31m12.9 MB/s\u001b[0m eta \u001b[36m0:00:00\u001b[0m\n",
            "\u001b[?25hDownloading tweedledum-1.1.1-cp310-cp310-manylinux_2_12_x86_64.manylinux2010_x86_64.whl (929 kB)\n",
            "\u001b[2K   \u001b[90m━━━━━━━━━━━━━━━━━━━━━━━━━━━━━━━━━━━━━━━━\u001b[0m \u001b[32m929.7/929.7 kB\u001b[0m \u001b[31m14.4 MB/s\u001b[0m eta \u001b[36m0:00:00\u001b[0m\n",
            "\u001b[?25hDownloading websockets-13.1-cp310-cp310-manylinux_2_5_x86_64.manylinux1_x86_64.manylinux_2_17_x86_64.manylinux2014_x86_64.whl (164 kB)\n",
            "\u001b[2K   \u001b[90m━━━━━━━━━━━━━━━━━━━━━━━━━━━━━━━━━━━━━━━━\u001b[0m \u001b[32m164.1/164.1 kB\u001b[0m \u001b[31m12.2 MB/s\u001b[0m eta \u001b[36m0:00:00\u001b[0m\n",
            "\u001b[?25hDownloading pbr-6.1.0-py2.py3-none-any.whl (108 kB)\n",
            "\u001b[2K   \u001b[90m━━━━━━━━━━━━━━━━━━━━━━━━━━━━━━━━━━━━━━━━\u001b[0m \u001b[32m108.5/108.5 kB\u001b[0m \u001b[31m7.4 MB/s\u001b[0m eta \u001b[36m0:00:00\u001b[0m\n",
            "\u001b[?25hDownloading pyspnego-0.11.1-py3-none-any.whl (130 kB)\n",
            "\u001b[2K   \u001b[90m━━━━━━━━━━━━━━━━━━━━━━━━━━━━━━━━━━━━━━━━\u001b[0m \u001b[32m130.5/130.5 kB\u001b[0m \u001b[31m9.8 MB/s\u001b[0m eta \u001b[36m0:00:00\u001b[0m\n",
            "\u001b[?25hBuilding wheels for collected packages: qiskit, python-constraint\n",
            "  Building wheel for qiskit (setup.py) ... \u001b[?25l\u001b[?25hdone\n",
            "  Created wheel for qiskit: filename=qiskit-0.36.0-py3-none-any.whl size=11839 sha256=418487befc19a16acf187eda2f4d42adeec752e9a6ddadf71463c4045590293c\n",
            "  Stored in directory: /root/.cache/pip/wheels/ea/4d/4d/541acda7e071d828a0b147243d350f992191c69874e6f7e4f2\n",
            "  Building wheel for python-constraint (setup.py) ... \u001b[?25l\u001b[?25hdone\n",
            "  Created wheel for python-constraint: filename=python_constraint-1.4.0-py2.py3-none-any.whl size=24059 sha256=c7a72447c2427ddf8b671792f708300eeac29b537ad4a049fa6678e65b7e9597\n",
            "  Stored in directory: /root/.cache/pip/wheels/2e/f2/2b/cb08b5fe129e4f69b7033061f256e5c551b0aa1160c2872aee\n",
            "Successfully built qiskit python-constraint\n",
            "Installing collected packages: python-constraint, ply, websockets, tweedledum, symengine, rustworkx, pbr, dill, stevedore, retworkx, qiskit-terra, pyspnego, requests-ntlm, qiskit-ignis, qiskit-aer, qiskit-ibmq-provider, qiskit\n",
            "Successfully installed dill-0.3.9 pbr-6.1.0 ply-3.11 pyspnego-0.11.1 python-constraint-1.4.0 qiskit-0.36.0 qiskit-aer-0.10.4 qiskit-ibmq-provider-0.19.0 qiskit-ignis-0.7.0 qiskit-terra-0.20.0 requests-ntlm-1.3.0 retworkx-0.15.1 rustworkx-0.15.1 stevedore-5.3.0 symengine-0.13.0 tweedledum-1.1.1 websockets-13.1\n"
          ]
        }
      ]
    },
    {
      "cell_type": "code",
      "source": [
        "!sudo apt-get update -y\n",
        "!sudo apt-get install python3.9\n",
        "!sudo update-alternatives --install /usr/bin/python3 python3 /usr/bin/python3.8 1\n",
        "!sudo update-alternatives --install /usr/bin/python3 python3 /usr/bin/python3.9 2\n",
        "!sudo update-alternatives --config python3 # Select python3.9 from the options presented"
      ],
      "metadata": {
        "id": "QF4OrJJwdY7Q",
        "colab": {
          "base_uri": "https://localhost:8080/"
        },
        "outputId": "39153761-e673-4112-9e00-684b9de5e2cf"
      },
      "execution_count": null,
      "outputs": [
        {
          "output_type": "stream",
          "name": "stdout",
          "text": [
            "Get:1 https://cloud.r-project.org/bin/linux/ubuntu jammy-cran40/ InRelease [3,626 B]\n",
            "Hit:2 https://developer.download.nvidia.com/compute/cuda/repos/ubuntu2204/x86_64  InRelease\n",
            "Hit:3 http://archive.ubuntu.com/ubuntu jammy InRelease\n",
            "Get:4 http://security.ubuntu.com/ubuntu jammy-security InRelease [129 kB]\n",
            "Ign:5 https://r2u.stat.illinois.edu/ubuntu jammy InRelease\n",
            "Get:6 https://r2u.stat.illinois.edu/ubuntu jammy Release [5,713 B]\n",
            "Get:7 http://archive.ubuntu.com/ubuntu jammy-updates InRelease [128 kB]\n",
            "Get:8 https://r2u.stat.illinois.edu/ubuntu jammy Release.gpg [793 B]\n",
            "Hit:9 https://ppa.launchpadcontent.net/deadsnakes/ppa/ubuntu jammy InRelease\n",
            "Hit:10 https://ppa.launchpadcontent.net/graphics-drivers/ppa/ubuntu jammy InRelease\n",
            "Hit:11 https://ppa.launchpadcontent.net/ubuntugis/ppa/ubuntu jammy InRelease\n",
            "Hit:12 http://archive.ubuntu.com/ubuntu jammy-backports InRelease\n",
            "Get:13 https://r2u.stat.illinois.edu/ubuntu jammy/main amd64 Packages [2,592 kB]\n",
            "Get:14 https://r2u.stat.illinois.edu/ubuntu jammy/main all Packages [8,384 kB]\n",
            "Get:15 http://security.ubuntu.com/ubuntu jammy-security/main amd64 Packages [2,326 kB]\n",
            "Get:16 http://security.ubuntu.com/ubuntu jammy-security/universe amd64 Packages [1,160 kB]\n",
            "Get:17 http://archive.ubuntu.com/ubuntu jammy-updates/main amd64 Packages [2,602 kB]\n",
            "Get:18 http://archive.ubuntu.com/ubuntu jammy-updates/universe amd64 Packages [1,449 kB]\n",
            "Fetched 18.8 MB in 8s (2,263 kB/s)\n",
            "Reading package lists... Done\n",
            "W: Skipping acquire of configured file 'main/source/Sources' as repository 'https://r2u.stat.illinois.edu/ubuntu jammy InRelease' does not seem to provide it (sources.list entry misspelt?)\n",
            "Reading package lists... Done\n",
            "Building dependency tree... Done\n",
            "Reading state information... Done\n",
            "The following additional packages will be installed:\n",
            "  libpython3.9-minimal libpython3.9-stdlib mailcap mime-support\n",
            "  python3.9-minimal\n",
            "Suggested packages:\n",
            "  python3.9-venv binfmt-support\n",
            "The following NEW packages will be installed:\n",
            "  libpython3.9-minimal libpython3.9-stdlib mailcap mime-support python3.9\n",
            "  python3.9-minimal\n",
            "0 upgraded, 6 newly installed, 0 to remove and 51 not upgraded.\n",
            "Need to get 5,284 kB of archives.\n",
            "After this operation, 19.4 MB of additional disk space will be used.\n",
            "Get:1 http://archive.ubuntu.com/ubuntu jammy/main amd64 mailcap all 3.70+nmu1ubuntu1 [23.8 kB]\n",
            "Get:2 http://archive.ubuntu.com/ubuntu jammy/main amd64 mime-support all 3.66 [3,696 B]\n",
            "Get:3 https://ppa.launchpadcontent.net/deadsnakes/ppa/ubuntu jammy/main amd64 libpython3.9-minimal amd64 3.9.20-1+jammy1 [837 kB]\n",
            "Get:4 https://ppa.launchpadcontent.net/deadsnakes/ppa/ubuntu jammy/main amd64 python3.9-minimal amd64 3.9.20-1+jammy1 [2,080 kB]\n",
            "Get:5 https://ppa.launchpadcontent.net/deadsnakes/ppa/ubuntu jammy/main amd64 libpython3.9-stdlib amd64 3.9.20-1+jammy1 [1,841 kB]\n",
            "Get:6 https://ppa.launchpadcontent.net/deadsnakes/ppa/ubuntu jammy/main amd64 python3.9 amd64 3.9.20-1+jammy1 [499 kB]\n",
            "Fetched 5,284 kB in 9s (583 kB/s)\n",
            "debconf: unable to initialize frontend: Dialog\n",
            "debconf: (No usable dialog-like program is installed, so the dialog based frontend cannot be used. at /usr/share/perl5/Debconf/FrontEnd/Dialog.pm line 78, <> line 6.)\n",
            "debconf: falling back to frontend: Readline\n",
            "debconf: unable to initialize frontend: Readline\n",
            "debconf: (This frontend requires a controlling tty.)\n",
            "debconf: falling back to frontend: Teletype\n",
            "dpkg-preconfigure: unable to re-open stdin: \n",
            "Selecting previously unselected package libpython3.9-minimal:amd64.\n",
            "(Reading database ... 123621 files and directories currently installed.)\n",
            "Preparing to unpack .../0-libpython3.9-minimal_3.9.20-1+jammy1_amd64.deb ...\n",
            "Unpacking libpython3.9-minimal:amd64 (3.9.20-1+jammy1) ...\n",
            "Selecting previously unselected package python3.9-minimal.\n",
            "Preparing to unpack .../1-python3.9-minimal_3.9.20-1+jammy1_amd64.deb ...\n",
            "Unpacking python3.9-minimal (3.9.20-1+jammy1) ...\n",
            "Selecting previously unselected package mailcap.\n",
            "Preparing to unpack .../2-mailcap_3.70+nmu1ubuntu1_all.deb ...\n",
            "Unpacking mailcap (3.70+nmu1ubuntu1) ...\n",
            "Selecting previously unselected package mime-support.\n",
            "Preparing to unpack .../3-mime-support_3.66_all.deb ...\n",
            "Unpacking mime-support (3.66) ...\n",
            "Selecting previously unselected package libpython3.9-stdlib:amd64.\n",
            "Preparing to unpack .../4-libpython3.9-stdlib_3.9.20-1+jammy1_amd64.deb ...\n",
            "Unpacking libpython3.9-stdlib:amd64 (3.9.20-1+jammy1) ...\n",
            "Selecting previously unselected package python3.9.\n",
            "Preparing to unpack .../5-python3.9_3.9.20-1+jammy1_amd64.deb ...\n",
            "Unpacking python3.9 (3.9.20-1+jammy1) ...\n",
            "Setting up libpython3.9-minimal:amd64 (3.9.20-1+jammy1) ...\n",
            "Setting up python3.9-minimal (3.9.20-1+jammy1) ...\n",
            "Setting up mailcap (3.70+nmu1ubuntu1) ...\n",
            "Setting up mime-support (3.66) ...\n",
            "Setting up libpython3.9-stdlib:amd64 (3.9.20-1+jammy1) ...\n",
            "Setting up python3.9 (3.9.20-1+jammy1) ...\n",
            "Processing triggers for man-db (2.10.2-1) ...\n",
            "update-alternatives: error: alternative path /usr/bin/python3.8 doesn't exist\n",
            "update-alternatives: using /usr/bin/python3.9 to provide /usr/bin/python3 (python3) in auto mode\n",
            "There is only one alternative in link group python3 (providing /usr/bin/python3): /usr/bin/python3.9\n",
            "Nothing to configure.\n"
          ]
        }
      ]
    },
    {
      "cell_type": "code",
      "execution_count": null,
      "metadata": {
        "id": "4nwGdzkhb4tL"
      },
      "outputs": [],
      "source": [
        "from qiskit import *\n",
        "import numpy as np\n",
        "from qiskit.visualization import plot_histogram # Import plot_histogram\n",
        "import matplotlib.pyplot as plt\n",
        "import qiskit.tools.jupyter\n",
        "import matplotlib.pyplot as plt\n",
        "import matplotlib"
      ]
    },
    {
      "cell_type": "code",
      "execution_count": null,
      "metadata": {
        "id": "-oX9N1vHb4tO"
      },
      "outputs": [],
      "source": [
        "from qiskit import Aer"
      ]
    },
    {
      "cell_type": "code",
      "execution_count": null,
      "metadata": {
        "id": "qL_zXhvDb4tO"
      },
      "outputs": [],
      "source": [
        "sim = Aer.get_backend('qasm_simulator')"
      ]
    },
    {
      "cell_type": "markdown",
      "metadata": {
        "id": "0EoUbY8db4tP"
      },
      "source": [
        "## Part 1: Implementation of Iterative Phase Estimation algorithm\n",
        "\n",
        "\n",
        "**Goal**\n",
        "\n",
        "Estimate a phase value on a system of two qubits through Iterative Phase Estimation (IPE) algorithm.\n",
        "\n",
        "Having gone through previous labs, you should have noticed that the \"length\" of a quantum circuit is the primary factor when determining the magnitude of the errors in the resulting output distribution; quantum circuits with greater depth have decreased fidelity.  Therefore, implementing algorithms based on shallow depth circuits is of the great importance in near-term quantum computing. In Lab 5, we learn one such algorithm for estimating quantum phase called the Iterative Phase Estimation (IPE) algorithm which requires a system comprised of only a single auxiliary qubit and evaluate the phase through a repetative process."
      ]
    },
    {
      "cell_type": "markdown",
      "metadata": {
        "id": "5k41qdyKb4tP"
      },
      "source": [
        "### 1. Understand a circuit with non-unitary operations."
      ]
    },
    {
      "cell_type": "markdown",
      "metadata": {
        "id": "ugOIxZ9Cb4tQ"
      },
      "source": [
        "Before we learn how the IPE algorithm works, lets review reset and conditional operations in Qiskit that go into building a IPE circuit. Read the Qiskit tutorial [here](https://qiskit.org/documentation/tutorials/circuits/3_summary_of_quantum_operations.html) ( go to `Non-unitary operations` section ) to understand how to build a circuit that performs conditional operations and reset."
      ]
    },
    {
      "cell_type": "markdown",
      "metadata": {
        "id": "Q7eCe4uvb4tQ"
      },
      "source": [
        "#### &#128211;Step A. Run the following cell and predict the outcome of the circuit."
      ]
    },
    {
      "cell_type": "code",
      "execution_count": null,
      "metadata": {
        "id": "3383JPmTb4tR",
        "outputId": "c50f7120-387c-484a-e37c-3ed2b8e5d5a4",
        "colab": {
          "base_uri": "https://localhost:8080/",
          "height": 109
        }
      },
      "outputs": [
        {
          "output_type": "execute_result",
          "data": {
            "text/plain": [
              "      ┌───┐┌─┐     ┌───┐┌────────┐┌───┐┌─┐\n",
              "  q0: ┤ H ├┤M├─|0>─┤ H ├┤ P(π/3) ├┤ H ├┤M├\n",
              "      └───┘└╥┘     └───┘└───╥────┘└───┘└╥┘\n",
              "            ║            ┌──╨──┐        ║ \n",
              "c0: 2/══════╩════════════╡ 0x1 ╞════════╩═\n",
              "            0            └─────┘        1 "
            ],
            "text/html": [
              "<pre style=\"word-wrap: normal;white-space: pre;background: #fff0;line-height: 1.1;font-family: &quot;Courier New&quot;,Courier,monospace\">      ┌───┐┌─┐     ┌───┐┌────────┐┌───┐┌─┐\n",
              "  q0: ┤ H ├┤M├─|0>─┤ H ├┤ P(π/3) ├┤ H ├┤M├\n",
              "      └───┘└╥┘     └───┘└───╥────┘└───┘└╥┘\n",
              "            ║            ┌──╨──┐        ║ \n",
              "c0: 2/══════╩════════════╡ 0x1 ╞════════╩═\n",
              "            0            └─────┘        1 </pre>"
            ]
          },
          "metadata": {},
          "execution_count": 6
        }
      ],
      "source": [
        "q = QuantumRegister(1)\n",
        "c = ClassicalRegister(2)\n",
        "\n",
        "qc0 = QuantumCircuit(q, c)\n",
        "qc0.h(q[0])\n",
        "qc0.measure(q[0], c[0])\n",
        "qc0.reset(q[0])\n",
        "qc0.h(q[0])\n",
        "qc0.p(np.pi/3, q[0]).c_if(c,1)\n",
        "qc0.h(q[0])\n",
        "qc0.measure(q[0],c[1])\n",
        "\n",
        "qc0.draw()"
      ]
    },
    {
      "cell_type": "markdown",
      "metadata": {
        "id": "p1yF0Wdeb4tT"
      },
      "source": [
        "Execute the cell below to see the result."
      ]
    },
    {
      "cell_type": "code",
      "execution_count": null,
      "metadata": {
        "id": "Js17Qp_Wb4tT",
        "outputId": "f740a4ff-cc0e-4dc6-980d-b42a2c1885e7",
        "colab": {
          "base_uri": "https://localhost:8080/",
          "height": 461
        }
      },
      "outputs": [
        {
          "output_type": "execute_result",
          "data": {
            "text/plain": [
              "<Figure size 700x500 with 1 Axes>"
            ],
            "image/png": "[encoded data removed]"
          },
          "metadata": {},
          "execution_count": 7
        }
      ],
      "source": [
        "from qiskit import Aer, QuantumCircuit, execute\n",
        "count0 = execute(qc0, sim).result().get_counts()\n",
        "plot_histogram(count0)"
      ]
    },
    {
      "cell_type": "markdown",
      "metadata": {
        "id": "2aIPc9Nrb4tU"
      },
      "source": [
        "#### &#128211;Step B. Complete the rest of the circuit so that the auxiliary qubit ( top qubit ) after the reset would be in the state $\\frac{1}{\\sqrt2}(|0\\rangle + e^{-i\\frac{\\pi}{2}}|1\\rangle)$ if the value of the classical bit is one or remains zero state otherwise."
      ]
    },
    {
      "cell_type": "code",
      "execution_count": null,
      "metadata": {
        "id": "7OA-BWQcb4tU",
        "outputId": "20e2965f-53cf-4b15-eade-1f2e83a44160",
        "colab": {
          "base_uri": "https://localhost:8080/",
          "height": 125
        }
      },
      "outputs": [
        {
          "output_type": "execute_result",
          "data": {
            "text/plain": [
              "       ┌───┐         ┌─┐     ┌───┐┌─────────┐┌───┐┌─┐\n",
              "q27_0: ┤ H ├─■───────┤M├─|0>─┤ H ├┤ P(-π/2) ├┤ H ├┤M├\n",
              "       ├───┤ │P(π/5) └╥┘     └───┘└────╥────┘└───┘└╥┘\n",
              "q27_1: ┤ X ├─■────────╫────────────────╫───────────╫─\n",
              "       └───┘          ║             ┌──╨──┐        ║ \n",
              " c3: 2/═══════════════╩═════════════╡ 0x1 ╞════════╩═\n",
              "                      0             └─────┘        1 "
            ],
            "text/html": [
              "<pre style=\"word-wrap: normal;white-space: pre;background: #fff0;line-height: 1.1;font-family: &quot;Courier New&quot;,Courier,monospace\">       ┌───┐         ┌─┐     ┌───┐┌─────────┐┌───┐┌─┐\n",
              "q27_0: ┤ H ├─■───────┤M├─|0>─┤ H ├┤ P(-π/2) ├┤ H ├┤M├\n",
              "       ├───┤ │P(π/5) └╥┘     └───┘└────╥────┘└───┘└╥┘\n",
              "q27_1: ┤ X ├─■────────╫────────────────╫───────────╫─\n",
              "       └───┘          ║             ┌──╨──┐        ║ \n",
              " c3: 2/═══════════════╩═════════════╡ 0x1 ╞════════╩═\n",
              "                      0             └─────┘        1 </pre>"
            ]
          },
          "metadata": {},
          "execution_count": 11
        }
      ],
      "source": [
        "q = QuantumRegister(2)\n",
        "c = ClassicalRegister(2)\n",
        "\n",
        "qc1 = QuantumCircuit(q,c)\n",
        "qc1.h(q[0])\n",
        "qc1.x(q[1])\n",
        "qc1.cp(np.pi/5, q[0], q[1])\n",
        "qc1.measure(q[0], c[0])\n",
        "qc1.reset(q[0])\n",
        "\n",
        "###### your code goes here #####\n",
        "qc1.h(q[0])  # Initialize auxiliary qubit to |+>\n",
        "qc1.p(-np.pi/2, q[0]).c_if(c, 1) # Apply phase gate conditioned on classical bit\n",
        "##########################\n",
        "qc1.h(q[0])\n",
        "qc1.measure(q[0],c[1])\n",
        "\n",
        "qc1.draw()"
      ]
    },
    {
      "cell_type": "markdown",
      "metadata": {
        "id": "gMuiO5bQb4tU"
      },
      "source": [
        "Running the following cell to display the result."
      ]
    },
    {
      "cell_type": "code",
      "execution_count": null,
      "metadata": {
        "id": "UPdB9FImb4tV",
        "outputId": "9bb286b4-36cb-490d-a635-461dd7518845",
        "colab": {
          "base_uri": "https://localhost:8080/",
          "height": 461
        }
      },
      "outputs": [
        {
          "output_type": "execute_result",
          "data": {
            "text/plain": [
              "<Figure size 700x500 with 1 Axes>"
            ],
            "image/png": "[encoded data removed]"
          },
          "metadata": {},
          "execution_count": 12
        }
      ],
      "source": [
        "count1 = execute(qc1, sim).result().get_counts()\n",
        "plot_histogram(count1)"
      ]
    },
    {
      "cell_type": "markdown",
      "metadata": {
        "id": "EQnAXsEfb4tV"
      },
      "source": [
        "### 2. Iterative Phase Estimation (IPE) Algorithm."
      ]
    },
    {
      "cell_type": "markdown",
      "metadata": {
        "id": "PVYaso_ab4tV"
      },
      "source": [
        "The Quantum Phase Estimation (QPE) circuit that we have learned and used previously is limited by the number of qubits necessary for the algorithm’s precision.  Every additional qubit has added costs in terms of noise and hardware requirements; noisy results that we obtained from executing the QPE circuit on a real quantum device in Lab 4 would get worse as the number of the qubits on the circuit increases. The IPE algorithm implements quantum phase estimation with only a single auxiliary qubit, and the accuracy of the algorithm is restricted by the number of iterations rather than the number of counting qubits. Therefore, IPE circuits are of practical interest and are of foremost importance for near-term quantum computing as QPE is an essential element in many quantum algorithms."
      ]
    },
    {
      "cell_type": "markdown",
      "metadata": {
        "id": "zzwBU4aWb4tW"
      },
      "source": [
        "Consider the problem of finding $\\varphi$ given $|\\Psi\\rangle$ and $U$ such that $U |\\Psi\\rangle = e^{i \\phi} | \\Psi \\rangle$, with $\\phi = 2 \\pi \\varphi$. Let's assume for now that $\\varphi$ can be written as $\\varphi = \\varphi_1/2 + \\varphi_2/4 + ... + \\varphi_m/2^m = 0.\\varphi_1 \\varphi_2 ... \\varphi_m$, where we have previously defined the notation $0.\\varphi_1 \\varphi_2 ... \\varphi_m$.\n",
        "\n",
        "Assume that $U$ is a unitary operator acting on one qubit. We therefore need a system of two qubits, $q_0$ and $q_1$, where $q_0$ is auxiliary qubit and the qubit $q_1$ represents the physical system on which $U$ operates. Having them initialized as $q_0 \\rightarrow |+\\rangle$ and $q_1 \\rightarrow |\\Psi \\rangle$, application of control-U between $q_0$ and $q_1$ $2^t$ times would change the state of $q_0$ to $|0\\rangle + e^{i 2 \\pi 2^{t} \\varphi} | 1 \\rangle$. That is, the phase of $U$ has been kicked back into $q_0$ as many times as the control operation has been performed.\n",
        "\n",
        "Therefore,\n",
        "\n",
        "for $t=0$, the phase encoded into $q_0$ would be $e^{i 2 \\pi 2^{0} \\varphi} = e^{i 2 \\pi \\varphi} = e^{i 2 \\pi 0.\\varphi_1 \\varphi_2 ... \\varphi_m}$\n",
        "and\n",
        "\n",
        "for $t=1$, the phase would be $e^{i 2 \\pi 2^{1} \\varphi} = e^{i 2 \\pi \\varphi_1} e^{i 2 \\pi 0.\\varphi_2 \\varphi_3 ... \\varphi_m}$ and\n",
        "\n",
        "for $t=2$, $e^{i 2 \\pi 2^{2} \\varphi} = e^{i 2 \\pi 2 \\varphi_1} e^{i 2 \\pi \\varphi_2} e^{i 2 \\pi 0.\\varphi_3 \\varphi_4 ... \\varphi_m}$\n",
        "and\n",
        "\n",
        "for $t=m-1$, $e^{i 2 \\pi 2^{m-1} \\varphi} = e^{i 2 \\pi 2^{m-2} \\varphi_1} e^{i 2 \\pi 2^{m-3} \\varphi_2} ... e^{i 2 \\pi 2^{-1} \\varphi_m} = e^{i 2 \\pi 0.\\varphi_m}$.\n",
        "\n",
        "Note that for the last case with $t=m-1$, the state of $q_0$ is $|0\\rangle + e^{i 2 \\pi 0.\\varphi_m}|1\\rangle$; $|+\\rangle$ if $\\varphi_m = 0$ and $|-\\rangle$ if $\\varphi_m = 1$ which would produce outcomes $|0\\rangle$ and $|1\\rangle$ respectively when it gets measured in x-basis.\n",
        "\n",
        "In `the first step` of the IPE algorithm, we directly measure the least significant bit of the phase $\\varphi$, $\\varphi_m$, by initializing the 2-qubit registers as described above ( $q_0 \\rightarrow |+\\rangle$ and $q_1 \\rightarrow |\\Psi \\rangle$ ), performing $2^{m-1}$ control-$U$ operations between the qubits, and measuring $q_0$ in the x-basis.\n",
        "\n",
        "For `the second step`, we initialize the systems in the same way and apply $2^{m-2}$ control-$U$ operations. The relative phase in $q_0$ after these operations is now $e^{i 2 \\pi 0.\\varphi_{m-1}\\varphi_{m}}= e^{i 2 \\pi 0.\\varphi_{m-1}} e^{i 2 \\pi \\varphi_m/4}$.\n",
        "To extract the phase bit $\\varphi_{m-1}$, first perform a phase correction by rotating around the $Z-$axis of angle $-2 \\pi \\varphi_m/4=-\\pi \\varphi_m/2$, which results in the state of  $q_0$ to be $|0\\rangle + e^{i 2 \\pi 0.\\varphi_{m-1}} | 1 \\rangle$. Perform a measurement on $q_0$ in x-basis to obtain the phase bit $\\varphi_{m-1}$.\n",
        "\n",
        "Therefore, the $k$th step of the IPE, getting $\\varphi_{m-k+1}$, consists of the register initialization ($q_0$ in $|+\\rangle$, $q_1$ in $|\\Psi\\rangle$), the application of control-$U$ $2^{m-k}$ times, a rotation around $Z$ of angle $\\omega_k = -2 \\pi 0.0\\varphi_{m-k+2} ... \\varphi_m$, and a measurement of $q_0$ in x-basis: a Hadamard transform to $q_0$, and a measurement of $q_0$ in the standard basis. Note that $q_1$ remains in the state $|\\Psi\\rangle$ throughout the algorithm."
      ]
    },
    {
      "cell_type": "markdown",
      "metadata": {
        "id": "URFb37-6b4tX"
      },
      "source": [
        "### 3. Estimate the phase of the $T$-gate implementing IPE algorithm."
      ]
    },
    {
      "cell_type": "markdown",
      "metadata": {
        "id": "n3I3Npk6b4tX"
      },
      "source": [
        "Review the `section 2. Example: T-gate` in [Ch.3.8 Quantum Phase Estimation](/course/ch-algorithms/quantum-phase-estimation) and the `section 4. Measuring in Different Bases` in [Ch.1.4 Single Qubit Gates](/course/ch-states/single-qubit-gates)"
      ]
    },
    {
      "cell_type": "markdown",
      "metadata": {
        "id": "Z1KzW96_b4tX"
      },
      "source": [
        "As we already learned the Qiskit textbook, the phase of a T-gate is exactly expressed using three bits."
      ]
    },
    {
      "cell_type": "markdown",
      "metadata": {
        "id": "PXWOCxhwb4tX"
      },
      "source": [
        "#### &#128211;Step A. Obtain the least significant phase bit of the $T$-gate by setting up the circuit <code>T_x3</code> properly and assign the value to the variable <code>x_3</code>."
      ]
    },
    {
      "cell_type": "markdown",
      "metadata": {
        "id": "q5UiiJ69b4tY"
      },
      "source": [
        "In the previous section, `the first step` explains how to construct the circuit to extract the least significant phase bit."
      ]
    },
    {
      "cell_type": "code",
      "execution_count": null,
      "metadata": {
        "id": "2RhkaNmGb4tY"
      },
      "outputs": [],
      "source": [
        "from qiskit import QuantumCircuit, QuantumRegister, ClassicalRegister, Aer, execute, transpile\n",
        "from qiskit.providers.aer import QasmSimulator\n",
        "\n",
        "q = QuantumRegister(2)\n",
        "c = ClassicalRegister(1)\n",
        "##1 Initialization\n",
        "T_x3 = QuantumCircuit(q, c)\n",
        "T_x3.measure(q[0], c[0])\n",
        "\n",
        "##2 Apply control-U operator as many times as needed to get the least significant phase bit\n",
        "sim = Aer.get_backend('qasm_simulator')\n",
        "\n",
        "##3 measure the anscillar qubit in x-basis\n",
        "T_x3 = transpile(T_x3, sim)\n",
        "job = execute(T_x3, sim, shots=1, memory=True, measurement_level=2)\n",
        "result = job.result()\n",
        "\n",
        "counts = result.get_counts()\n",
        "x_3 = int(list(counts.keys())[0])"
      ]
    },
    {
      "cell_type": "markdown",
      "metadata": {
        "id": "dp2wnTizb4tY"
      },
      "source": [
        "#### &#128211;Step B. Extract the middle phase bit of the $T$-gate by creating the circuit <code>T_x2</code> with phase correction using <code>x_3</code> value from Step A. Assign the outcome bit to the variable <code>x_2</code>."
      ]
    },
    {
      "cell_type": "markdown",
      "metadata": {
        "id": "UJr05kz-b4tY"
      },
      "source": [
        "Read the `the second step` in the previous section."
      ]
    },
    {
      "cell_type": "code",
      "execution_count": null,
      "metadata": {
        "id": "zkILfzX1b4tZ"
      },
      "outputs": [],
      "source": [
        "q = QuantumRegister(2)\n",
        "c = ClassicalRegister(1)\n",
        "\n",
        "T_x2 = QuantumCircuit(q,c)\n",
        "\n",
        "########### your code goes here ##########\n",
        "\n",
        "##1 Initialization\n",
        "\n",
        "T_x2.h(q[0])\n",
        "T_x2.x(q[1])\n",
        "\n",
        "##2 phase correction\n",
        "T_x2.p(-np.pi/4 * x_3, q[0])\n",
        "\n",
        "\n",
        "\n",
        "\n",
        "##3 Apply control-U operator as many times as needed\n",
        "T_x2.cp(np.pi/4, q[0], q[1])\n",
        "\n",
        "\n",
        "\n",
        "\n",
        "\n",
        "##4 measure the anscillar qubit in x-basis\n",
        "T_x2.h(q[0])\n",
        "\n",
        "# Add a measurement operation to the circuit\n",
        "T_x2.measure(q[0], c[0]) # Measures qubit q[0] and stores the result in classical bit c[0]\n",
        "\n",
        "\n",
        "\n",
        "######## Simulate the circuit and assign the output value to the variable 'x_2'\n",
        "# Add measurement_level=2 to execute to store memory\n",
        "job = execute(T_x2, sim, shots=1, memory=True, measurement_level=2)\n",
        "# Use get_counts to access measurement results, and handle empty results\n",
        "result = job.result()\n",
        "counts = result.get_counts()\n",
        "x_2 = int(list(counts.keys())[0]) if counts else 0 # If counts is empty, assign 0 to x_2"
      ]
    },
    {
      "cell_type": "markdown",
      "metadata": {
        "id": "dkryucVpb4ta"
      },
      "source": [
        "#### &#128211;Step C. Find the most significant phase bit of the $T$-gate and assign it to the variable <code>x_1</code>."
      ]
    },
    {
      "cell_type": "code",
      "execution_count": null,
      "metadata": {
        "id": "FchAHomgb4ta"
      },
      "outputs": [],
      "source": [
        "\n",
        "from qiskit import QuantumCircuit, QuantumRegister, ClassicalRegister, execute, Aer\n",
        "\n",
        "# Assuming 'sim' is an Aer simulator instance\n",
        "sim = Aer.get_backend('qasm_simulator')\n",
        "\n",
        "q = QuantumRegister(2)\n",
        "c = ClassicalRegister(1)\n",
        "\n",
        "T_x1 = QuantumCircuit(q, c)\n",
        "\n",
        "########### your code goes here #########\n",
        "\n",
        "##1 Initialization\n",
        "\n",
        "T_x1.h(q[0])\n",
        "T_x1.x(q[1])\n",
        "\n",
        "\n",
        "\n",
        "\n",
        "##2 phase correction\n",
        "phase_correction_angle = -np.pi/2 * x_2 - np.pi/4 * x_3\n",
        "\n",
        "T_x1.p(phase_correction_angle, q[0])\n",
        "\n",
        "\n",
        "\n",
        "##3 Apply control-U operator as many times as needed to get the least significant phase bit\n",
        "\n",
        "T_x1.cp(np.pi/2, q[0], q[1])\n",
        "\n",
        "\n",
        "\n",
        "\n",
        "##4 measure the anscillar qubit in x-basis\n",
        "\n",
        "T_x1.h(q[0])  # Hadamard to rotate to X-basis\n",
        "T_x1.measure(q[0], c[0])\n",
        "\n",
        "\n",
        "\n",
        "########## Simulate the circuit and assign the output value to the variable 'x_1'\n",
        "# Ensure the simulator is configured to store memory\n",
        "job = execute(T_x1, sim, shots=1, memory=True, measurement_level=2)\n",
        "result = job.result()\n",
        "\n",
        "# Check if memory data is available before accessing it\n",
        "if 'memory' in result.data(0):  # Check for experiment 0 (the default)\n",
        "    x_1 = int(result.get_memory()[0])\n",
        "else:\n",
        "    print(\"Memory data not available in the result.\")\n",
        "    x_1 = 0  # Assign a default value if memory is not available"
      ]
    },
    {
      "cell_type": "markdown",
      "metadata": {
        "id": "_nhmjCOxb4ta"
      },
      "source": [
        "Therefore, the $T$-gate phase bit that you found is 0.x_1x_2x_3. Run the following cell to check if your answer is correct by comparing your phase bit `x_1x_2x_3` with `001`, the answer in the Qiskit textbook, which corresponds to $\\frac{1}{8}$ ( = `0.125`), the phase of the $T$-gate."
      ]
    },
    {
      "cell_type": "code",
      "execution_count": null,
      "metadata": {
        "id": "x0wVMUEeb4ta",
        "colab": {
          "base_uri": "https://localhost:8080/"
        },
        "outputId": "836c7dfc-459f-4770-bca4-7cc6030a9c30"
      },
      "outputs": [
        {
          "output_type": "execute_result",
          "data": {
            "text/plain": [
              "False"
            ]
          },
          "metadata": {},
          "execution_count": 19
        }
      ],
      "source": [
        "T_phase_bits = '{}{}{}'.format(x_1, x_2, x_3)\n",
        "T_phase_bits == '001'"
      ]
    },
    {
      "cell_type": "markdown",
      "metadata": {
        "id": "2yqXiws-b4tb"
      },
      "source": [
        "#### &#128211;Step D. Construct the full IPE circuit and pass it to the variable <code>qc_T</code> ; Put the all steps that you performed into one circuit utilizing conditional operations and reset."
      ]
    },
    {
      "cell_type": "markdown",
      "metadata": {
        "id": "n9PaZJI7b4tc"
      },
      "source": [
        "Instead of using three seperate circuits to extract each phase bit value, build one circuit; perform a reset operation on the auxiliary qubit after each bit gets measured into a classical register. Therefore, the circuit requires three classical registers for this example; the least significant bit measured into the classical register, c[0] and the most significant bit measured into c[2]. Implement conditional operator between the auxiliary qubit and the classical register for the phase correction."
      ]
    },
    {
      "cell_type": "code",
      "execution_count": null,
      "metadata": {
        "id": "7920EBOAb4tc",
        "colab": {
          "base_uri": "https://localhost:8080/",
          "height": 142
        },
        "outputId": "55873982-6e0f-46de-d3d4-1bb550d4df26"
      },
      "outputs": [
        {
          "output_type": "stream",
          "name": "stdout",
          "text": [
            "Estimated phase value: 1\n"
          ]
        },
        {
          "output_type": "execute_result",
          "data": {
            "text/plain": [
              "          ┌───┐                  ┌───┐┌───┐                  \n",
              "q_0: ─────┤ U ├──────────────────┤ U ├┤ U ├──────────────────\n",
              "     ┌───┐└─┬─┘┌───┐┌─┐     ┌───┐└─┬─┘└─┬─┘┌───┐┌─┐     ┌───┐\n",
              "q_1: ┤ H ├──■──┤ H ├┤M├─|0>─┤ H ├──■────■──┤ H ├┤M├─|0>─┤ H ├\n",
              "     └───┘     └───┘└╥┘     └───┘          └───┘└╥┘     └───┘\n",
              "c: 2/════════════════╩═══════════════════════════╩═══════════\n",
              "                     0                           1           "
            ],
            "text/html": [
              "<pre style=\"word-wrap: normal;white-space: pre;background: #fff0;line-height: 1.1;font-family: &quot;Courier New&quot;,Courier,monospace\">          ┌───┐                  ┌───┐┌───┐                  \n",
              "q_0: ─────┤ U ├──────────────────┤ U ├┤ U ├──────────────────\n",
              "     ┌───┐└─┬─┘┌───┐┌─┐     ┌───┐└─┬─┘└─┬─┘┌───┐┌─┐     ┌───┐\n",
              "q_1: ┤ H ├──■──┤ H ├┤M├─|0>─┤ H ├──■────■──┤ H ├┤M├─|0>─┤ H ├\n",
              "     └───┘     └───┘└╥┘     └───┘          └───┘└╥┘     └───┘\n",
              "c: 2/════════════════╩═══════════════════════════╩═══════════\n",
              "                     0                           1           </pre>"
            ]
          },
          "metadata": {},
          "execution_count": 20
        }
      ],
      "source": [
        "##### your code goes here ######\n",
        "\n",
        "from qiskit import QuantumCircuit, QuantumRegister, ClassicalRegister, execute, Aer\n",
        "from qiskit.circuit import Gate, QuantumCircuit\n",
        "\n",
        "# Assuming 'sim' is an Aer simulator instance, and U is your unitary operator\n",
        "sim = Aer.get_backend('qasm_simulator')\n",
        "# Assuming U is your unitary operator (replace with your actual U gate)\n",
        "\n",
        "# Define the U gate using a QuantumCircuit\n",
        "U_circuit = QuantumCircuit(1)  # Circuit for the U gate\n",
        "# Replace these with the actual operations for your U gate:\n",
        "U_circuit.x(0)  # Example: U gate is an X gate\n",
        "U = U_circuit.to_gate(label='U')  # Convert the circuit to a gate\n",
        "\n",
        "def construct_ipe_circuit(U):\n",
        "    \"\"\"\n",
        "    Constructs the full IPE circuit to extract phase bit values.\n",
        "\n",
        "    Args:\n",
        "        U: The unitary operator for which to estimate the phase.\n",
        "\n",
        "    Returns:\n",
        "        QuantumCircuit: The IPE circuit.\n",
        "    \"\"\"\n",
        "    q = QuantumRegister(2, 'q')  # Two qubits: target and ancilla\n",
        "    c = ClassicalRegister(2, 'c')  # Two classical bits for phase bits\n",
        "    qc_T = QuantumCircuit(q, c)\n",
        "\n",
        "    # 1. Initialization\n",
        "    qc_T.h(q[1])  # Hadamard on ancilla\n",
        "\n",
        "    # 2. Phase correction (not needed for this specific case)\n",
        "\n",
        "    # 3. Apply controlled-U operations and measurements\n",
        "    for i in range(2):  # Iterate for two phase bits\n",
        "        # Apply controlled-U^2^i\n",
        "        for _ in range(2**i):\n",
        "            qc_T.append(U.control(1), [q[1], q[0]])\n",
        "\n",
        "        # Measure the ancilla qubit in x-basis\n",
        "        qc_T.h(q[1])\n",
        "        qc_T.measure(q[1], c[i])\n",
        "\n",
        "        # Reset the ancilla qubit for the next iteration\n",
        "        qc_T.reset(q[1])\n",
        "        qc_T.h(q[1])  # Re-initialize for the next iteration\n",
        "\n",
        "    return qc_T\n",
        "\n",
        "# Example usage:\n",
        "qc_T = construct_ipe_circuit(U)\n",
        "\n",
        "# Execute the circuit\n",
        "job = execute(qc_T, sim, shots=1, memory=True)\n",
        "result = job.result()\n",
        "counts = result.get_counts()\n",
        "phase_bits = list(counts.keys())[0]  # Get the measured phase bits\n",
        "\n",
        "# Convert the phase bits to an integer\n",
        "phase_value = int(phase_bits, 2)\n",
        "\n",
        "print(\"Estimated phase value:\", phase_value)\n",
        "\n",
        "\n",
        "################\n",
        "qc_T.draw()"
      ]
    },
    {
      "cell_type": "markdown",
      "metadata": {
        "id": "BzNJ0HEHb4td"
      },
      "source": [
        "#### Step E. Excute the following cell to perform the simulation and display the result."
      ]
    },
    {
      "cell_type": "code",
      "execution_count": null,
      "metadata": {
        "id": "Hh6QmV8fb4td",
        "colab": {
          "base_uri": "https://localhost:8080/",
          "height": 487
        },
        "outputId": "cedbc2cf-8c63-478a-8d70-37ad29db2a08"
      },
      "outputs": [
        {
          "output_type": "display_data",
          "data": {
            "text/plain": [
              "<Figure size 640x480 with 2 Axes>"
            ],
            "image/png": "[encoded data removed]"
          },
          "metadata": {}
        }
      ],
      "source": [
        "count0 = execute(qc_T, sim).result().get_counts()\n",
        "n=3\n",
        "key_new = [str(int(key,2)/2**n) for key in list(count0.keys())]\n",
        "count1 = dict(zip(key_new, count0.values()))\n",
        "\n",
        "fig, ax = plt.subplots(1,2)\n",
        "plot_histogram(count0, ax=ax[0])\n",
        "plot_histogram(count1, ax=ax[1])\n",
        "plt.tight_layout()"
      ]
    },
    {
      "cell_type": "markdown",
      "metadata": {
        "id": "VFEcaWUCb4te"
      },
      "source": [
        "## Part 2: Comparison between QPE and IPE results in the presence of noise\n",
        "\n",
        "\n",
        "*Goal**\n",
        "\n",
        "Understand the importance of implementing shallow circuit algorithms on current noisy quantum computers.\n",
        "\n",
        "In Part 2 of Lab 4, we executed a Quantum Phase Estimation (QPE) circuit on a real quantum device.  Having recognized the limits of the performance due to noise that presents in current quantum system, we utilized several techniques to reduce its influence on the outcome. However, the final result that was obtained, even after all these procedures, is still far from ideal. Here, we implement Iterative Phase Estimation (IPE) algorithm to overcome the effect of noise in phase estimation to a great extent and compare the result with the QPE outcome."
      ]
    },
    {
      "cell_type": "markdown",
      "metadata": {
        "id": "Sn8jPyEgb4te"
      },
      "source": [
        "To investigate the impact of the noise from real quantum system on the outcome, we will perform noisy simulations of IPE circuit employing the Qiskit Aer `noise` module which produces a simplified noise model for an IBM quantum system. To learn more about noisy simulation, read [here](https://qiskit.org/documentation/tutorials/simulators/2_device_noise_simulation.html).  \n",
        "\n",
        "As in Lab 4, we consider to estimate the phase of `p` gate with $\\theta = \\frac{1}{3}$. Suppose that the accuracy of the estimation that we desire here is same as when the QPE circuit has four counting qubits, which determines the number of iteration and classical registers required for the IPE circuit."
      ]
    },
    {
      "cell_type": "markdown",
      "metadata": {
        "id": "-pq5Lre1b4tg"
      },
      "source": [
        "#### &#128211;Step A. How many classical registers is needed? Assign the value to the variable <code>n</code>.  "
      ]
    },
    {
      "cell_type": "code",
      "execution_count": null,
      "metadata": {
        "id": "j8qc4nQNb4th"
      },
      "outputs": [],
      "source": [
        "## your answer goes here\n",
        "n =4"
      ]
    },
    {
      "cell_type": "markdown",
      "metadata": {
        "id": "Q8OcOvNCb4th"
      },
      "source": [
        "#### &#128211;Step B. Construct the IPE circuit in the following cell."
      ]
    },
    {
      "cell_type": "code",
      "execution_count": null,
      "metadata": {
        "scrolled": true,
        "id": "11OcHttRb4th",
        "colab": {
          "base_uri": "https://localhost:8080/",
          "height": 318
        },
        "outputId": "b120049e-0044-4eec-d2c5-a12fa1146fc9"
      },
      "outputs": [
        {
          "output_type": "stream",
          "name": "stderr",
          "text": [
            "<ipython-input-23-66a54c1c719d>:41: DeprecationWarning: The QuantumCircuit.u1 method is deprecated as of 0.16.0. It will be removed no earlier than 3 months after the release date. You should use the QuantumCircuit.p method instead, which acts identically.\n",
            "  IPE.u1(-pi / (2 ** k), q[1]).c_if(c[k-1], 1)\n"
          ]
        },
        {
          "output_type": "execute_result",
          "data": {
            "text/plain": [
              "        ┌───┐         ┌───┐┌─┐┌───┐               ┌───┐    ┌─┐┌───┐           »\n",
              "q153_0: ┤ H ├─■───────┤ H ├┤M├┤ H ├─■─────────────┤ H ├────┤M├┤ H ├─■─────────»\n",
              "        └───┘ │P(13π) └───┘└╥┘└───┘ │P(13π/2)  ┌──┴───┴───┐└╥┘└───┘ │P(13π/4) »\n",
              "q153_1: ──────■─────────────╫───────■──────────┤ U1(-π/2) ├─╫───────■─────────»\n",
              "                            ║                  └────╥─────┘ ║                 »\n",
              "                            ║                 ┌─────╨─────┤ ║                 »\n",
              " c11: 4/════════════════════╩═════════════════╡ c11_0=0x1 ╞═╩═════════════════»\n",
              "                            0                 └───────────┘ 1                 »\n",
              "«            ┌───┐    ┌─┐┌───┐               ┌───┐    ┌─┐\n",
              "«q153_0: ────┤ H ├────┤M├┤ H ├─■─────────────┤ H ├────┤M├\n",
              "«         ┌──┴───┴───┐└╥┘└───┘ │P(13π/8)  ┌──┴───┴───┐└╥┘\n",
              "«q153_1: ─┤ U1(-π/4) ├─╫───────■──────────┤ U1(-π/8) ├─╫─\n",
              "«         └────╥─────┘ ║                  └────╥─────┘ ║ \n",
              "«        ┌─────╨─────┤ ║                 ┌─────╨─────┤ ║ \n",
              "« c11: 4/╡ c11_1=0x1 ╞═╩═════════════════╡ c11_2=0x1 ╞═╩═\n",
              "«        └───────────┘ 2                 └───────────┘ 3 "
            ],
            "text/html": [
              "<pre style=\"word-wrap: normal;white-space: pre;background: #fff0;line-height: 1.1;font-family: &quot;Courier New&quot;,Courier,monospace\">        ┌───┐         ┌───┐┌─┐┌───┐               ┌───┐    ┌─┐┌───┐           »\n",
              "q153_0: ┤ H ├─■───────┤ H ├┤M├┤ H ├─■─────────────┤ H ├────┤M├┤ H ├─■─────────»\n",
              "        └───┘ │P(13π) └───┘└╥┘└───┘ │P(13π/2)  ┌──┴───┴───┐└╥┘└───┘ │P(13π/4) »\n",
              "q153_1: ──────■─────────────╫───────■──────────┤ U1(-π/2) ├─╫───────■─────────»\n",
              "                            ║                  └────╥─────┘ ║                 »\n",
              "                            ║                 ┌─────╨─────┤ ║                 »\n",
              " c11: 4/════════════════════╩═════════════════╡ c11_0=0x1 ╞═╩═════════════════»\n",
              "                            0                 └───────────┘ 1                 »\n",
              "«            ┌───┐    ┌─┐┌───┐               ┌───┐    ┌─┐\n",
              "«q153_0: ────┤ H ├────┤M├┤ H ├─■─────────────┤ H ├────┤M├\n",
              "«         ┌──┴───┴───┐└╥┘└───┘ │P(13π/8)  ┌──┴───┴───┐└╥┘\n",
              "«q153_1: ─┤ U1(-π/4) ├─╫───────■──────────┤ U1(-π/8) ├─╫─\n",
              "«         └────╥─────┘ ║                  └────╥─────┘ ║ \n",
              "«        ┌─────╨─────┤ ║                 ┌─────╨─────┤ ║ \n",
              "« c11: 4/╡ c11_1=0x1 ╞═╩═════════════════╡ c11_2=0x1 ╞═╩═\n",
              "«        └───────────┘ 2                 └───────────┘ 3 </pre>"
            ]
          },
          "metadata": {},
          "execution_count": 23
        }
      ],
      "source": [
        "q = QuantumRegister(2)\n",
        "c = ClassicalRegister(n)\n",
        "\n",
        "IPE = QuantumCircuit(q,c)\n",
        "\n",
        "########## your code goes here ############\n",
        "\n",
        "from qiskit import QuantumCircuit, QuantumRegister, ClassicalRegister, Aer, execute\n",
        "from numpy import pi\n",
        "\n",
        "# Number of classical registers, as determined in Step A\n",
        "n = 4\n",
        "\n",
        "# Define quantum and classical registers\n",
        "q = QuantumRegister(2)  # 2 qubits: control + work qubit\n",
        "c = ClassicalRegister(n)  # n classical registers for n bits of phase\n",
        "\n",
        "# Create the IPE quantum circuit\n",
        "IPE = QuantumCircuit(q, c)\n",
        "\n",
        "# Iterate over each bit of the phase\n",
        "for k in range(n):\n",
        "    # 1. Initialize the control qubit to the superposition state\n",
        "    IPE.h(q[0])\n",
        "\n",
        "    # 2. Apply a controlled unitary operation U^(2^(n-k-1))\n",
        "    # For simplicity, let's assume U is the phase gate Rz(2*pi*theta)\n",
        "    # The unitary operation depends on the iteration step (power of 2).\n",
        "    # In general, this would be a controlled-U^(2^(n-k-1)), but we'll use a phase shift here.\n",
        "    theta = 13 / 16  # Given in the problem statement, θ = 13 / 16 of 2*pi\n",
        "    IPE.cp(2 * pi * theta * 2 ** (n - k - 1), q[0], q[1])  # Controlled phase operation\n",
        "\n",
        "    # 3. Apply a Hadamard gate to the control qubit and measure it in the X-basis\n",
        "    IPE.h(q[0])\n",
        "    IPE.measure(q[0], c[k])\n",
        "\n",
        "    # 4. Apply phase correction based on the previous measurement result (classical feedback)\n",
        "    # This will depend on the previous bits, so for each k, we'll use a feedback mechanism\n",
        "    # involving a conditional phase shift for the work qubit.\n",
        "    if k > 0:\n",
        "        IPE.u1(-pi / (2 ** k), q[1]).c_if(c[k-1], 1)\n",
        "\n",
        "#####################\n",
        "IPE.draw()"
      ]
    },
    {
      "cell_type": "markdown",
      "metadata": {
        "id": "w8xCcVUfb4th"
      },
      "source": [
        "#### Step C. Run the cell below to create the QPE circuit for the comparison."
      ]
    },
    {
      "cell_type": "code",
      "execution_count": null,
      "metadata": {
        "id": "oc2QuYbCb4ti",
        "colab": {
          "base_uri": "https://localhost:8080/",
          "height": 217
        },
        "outputId": "8e573fb6-4b0b-439b-c1f0-866ba369d9be"
      },
      "outputs": [
        {
          "output_type": "execute_result",
          "data": {
            "text/plain": [
              "     ┌───┐                                         ┌───────┐┌─┐         \n",
              "q_0: ┤ H ├─■───────────────────────────────────────┤0      ├┤M├─────────\n",
              "     ├───┤ │                                       │       │└╥┘┌─┐      \n",
              "q_1: ┤ H ├─┼─────────■─────────────────────────────┤1      ├─╫─┤M├──────\n",
              "     ├───┤ │         │                             │  QFT+ │ ║ └╥┘┌─┐   \n",
              "q_2: ┤ H ├─┼─────────┼─────────■───────────────────┤2      ├─╫──╫─┤M├───\n",
              "     ├───┤ │         │         │                   │       │ ║  ║ └╥┘┌─┐\n",
              "q_3: ┤ H ├─┼─────────┼─────────┼─────────■─────────┤3      ├─╫──╫──╫─┤M├\n",
              "     ├───┤ │P(2π/3)  │P(4π/3)  │P(8π/3)  │P(16π/3) └───────┘ ║  ║  ║ └╥┘\n",
              "q_4: ┤ X ├─■─────────■─────────■─────────■───────────────────╫──╫──╫──╫─\n",
              "     └───┘                                                   ║  ║  ║  ║ \n",
              "c: 4/════════════════════════════════════════════════════════╩══╩══╩══╩═\n",
              "                                                             0  1  2  3 "
            ],
            "text/html": [
              "<pre style=\"word-wrap: normal;white-space: pre;background: #fff0;line-height: 1.1;font-family: &quot;Courier New&quot;,Courier,monospace\">     ┌───┐                                         ┌───────┐┌─┐         \n",
              "q_0: ┤ H ├─■───────────────────────────────────────┤0      ├┤M├─────────\n",
              "     ├───┤ │                                       │       │└╥┘┌─┐      \n",
              "q_1: ┤ H ├─┼─────────■─────────────────────────────┤1      ├─╫─┤M├──────\n",
              "     ├───┤ │         │                             │  QFT+ │ ║ └╥┘┌─┐   \n",
              "q_2: ┤ H ├─┼─────────┼─────────■───────────────────┤2      ├─╫──╫─┤M├───\n",
              "     ├───┤ │         │         │                   │       │ ║  ║ └╥┘┌─┐\n",
              "q_3: ┤ H ├─┼─────────┼─────────┼─────────■─────────┤3      ├─╫──╫──╫─┤M├\n",
              "     ├───┤ │P(2π/3)  │P(4π/3)  │P(8π/3)  │P(16π/3) └───────┘ ║  ║  ║ └╥┘\n",
              "q_4: ┤ X ├─■─────────■─────────■─────────■───────────────────╫──╫──╫──╫─\n",
              "     └───┘                                                   ║  ║  ║  ║ \n",
              "c: 4/════════════════════════════════════════════════════════╩══╩══╩══╩═\n",
              "                                                             0  1  2  3 </pre>"
            ]
          },
          "metadata": {},
          "execution_count": 24
        }
      ],
      "source": [
        "def qft(n):\n",
        "    \"\"\"Creates an n-qubit QFT circuit\"\"\"\n",
        "    circuit = QuantumCircuit(n)\n",
        "    def swap_registers(circuit, n):\n",
        "        for qubit in range(n//2):\n",
        "            circuit.swap(qubit, n-qubit-1)\n",
        "        return circuit\n",
        "    def qft_rotations(circuit, n):\n",
        "        \"\"\"Performs qft on the first n qubits in circuit (without swaps)\"\"\"\n",
        "        if n == 0:\n",
        "            return circuit\n",
        "        n -= 1\n",
        "        circuit.h(n)\n",
        "        for qubit in range(n):\n",
        "            circuit.cp(np.pi/2**(n-qubit), qubit, n)\n",
        "        qft_rotations(circuit, n)\n",
        "\n",
        "    qft_rotations(circuit, n)\n",
        "    swap_registers(circuit, n)\n",
        "    return circuit\n",
        "\n",
        "\n",
        "# define the parameters\n",
        "t, psi = 4, 1/3*np.pi*2\n",
        "\n",
        "# building a circuit\n",
        "QPE = QuantumCircuit(t+1,t)\n",
        "QPE.h(range(t))\n",
        "QPE.x(t)\n",
        "for idx in range(t):\n",
        "    QPE.cp(psi*2**idx, idx, t)\n",
        "\n",
        "qft_dag = qft(t).to_gate().inverse()\n",
        "qft_dag.label = 'QFT+'\n",
        "QPE.append(qft_dag, range(t))\n",
        "QPE.measure(range(t), range(t))\n",
        "\n",
        "QPE.draw()"
      ]
    },
    {
      "cell_type": "markdown",
      "metadata": {
        "id": "TdYtn3Sob4ti"
      },
      "source": [
        "#### &#128211;Step D. Transpile the circuits for the backend <code>ibmq_Athens</code>."
      ]
    },
    {
      "cell_type": "markdown",
      "metadata": {
        "id": "Ts0cffeHb4ti"
      },
      "source": [
        "Run the following cell to check the properties of the backend, `ibmq_Athens`. Pick an initial_layout, and transpile the IPE circuit setting `optimization_level` = 3, and save the transpiled circuit to the variable `IPE_trans`. Print out the depth of the transpiled circuit."
      ]
    },
    {
      "cell_type": "code",
      "execution_count": null,
      "metadata": {
        "id": "TJTL3yrMb4tj",
        "colab": {
          "base_uri": "https://localhost:8080/",
          "height": 684,
          "referenced_widgets": [
            "afe7ac0da5b743fc8ee20bba73b2aa9e",
            "7293b37c12714f1c9a17b0384133ca3c",
            "cf4e8f81523a45f4bb1308067ec1629c",
            "e60f6d395c0f4026b430eb08c50f3048",
            "6320c97937084122bba8598491250f49",
            "9fef4a07c62c4391a128f875ebea2a54",
            "f6b2c3d156544cb2bbad330b7d09c656",
            "4111c5c4c2354a68a642e71bf0e40629",
            "794ac9fdb8bc4f53ab5c8ff7645354d9",
            "c592e942e72d4a0a91ceee09aeda7b92",
            "4bb15ab55e284fdabbb1a9c770551f9d",
            "a7fb43fe8e584492b2215020d62b3ffc",
            "e8a65620a9fa4002bea7e3f54313be43",
            "ecfc2d7174854cedae3b48089ca2f3ab",
            "41b1477ec4ca4712a9a25b7ad72803e4",
            "abcf0dcb93944d8ba8e783d38ded6cd5",
            "0dcaa531fbdf441f98937af908862dfa",
            "f338403478ae40eb8498cc9bf9a7c121",
            "023a3b3fd9bb41c7ab9ae1010bf1efa6",
            "3f4f0210cba04b149656437b0597a714",
            "88cf9a4cfd7e4e37a0d07a94b17c2275",
            "5888f9189aae49f1bbe28acb15592e8c",
            "1ceceeb54a65499c8917fa7e68d38d73",
            "0cad35b58e29437d8c32732e47113b53",
            "f5aa412d14ef4c8ca4fb374da3c9f76e",
            "87542c9d752149609ee1d271a4c8af6a",
            "f5e5e328d95d4d39ac7d738130675eba",
            "037fe95dba514e3bba3c31c9f7300a3d",
            "c6780599a46c49799754209064050429",
            "8e399861451c48e4a304eb85034d1af5",
            "86bc3592a08244abb1955597181502a3",
            "99316a2f1f7f40488a954c25e31af835",
            "ad37d156a602449d9675d1a94fa924b7",
            "6e3867c175694d9abe06d0c1a95024d1",
            "648c22e4b9af42609723c5311f15ddf5",
            "4d5a1fe7d6844408b1cae561cd0e4051",
            "20b099505c214b3fb85c836a5acd659b",
            "bba9e1fcb0b74cad8108587b05623fcc",
            "3df596310992415fb5c78bf1f4101ffc",
            "0cf599775b594866a48b12188800fac9",
            "be93e9fb7a614389b8e6400646f685c1",
            "6a6c9620fca846a6bfa097b6134c3141",
            "0c6e68c09879467cabc8587f2d49992d"
          ]
        },
        "outputId": "8a5fcf4f-d559-4c2f-9856-7404913910e5"
      },
      "outputs": [
        {
          "output_type": "display_data",
          "data": {
            "text/plain": [
              "VBox(children=(HTML(value=\"<h1 style='color:#ffffff;background-color:#000000;padding-top: 1%;padding-bottom: 1…"
            ],
            "application/vnd.jupyter.widget-view+json": {
              "version_major": 2,
              "version_minor": 0,
              "model_id": "afe7ac0da5b743fc8ee20bba73b2aa9e"
            }
          },
          "metadata": {}
        },
        {
          "output_type": "execute_result",
          "data": {
            "text/plain": [
              "<FakeAthens('fake_athens')>"
            ]
          },
          "metadata": {},
          "execution_count": 25
        }
      ],
      "source": [
        "from qiskit.providers.fake_provider import FakeAthens\n",
        "import qiskit.tools.jupyter\n",
        "\n",
        "backend = FakeAthens()\n",
        "backend"
      ]
    },
    {
      "cell_type": "code",
      "execution_count": null,
      "metadata": {
        "id": "Oga3A54yb4tj",
        "colab": {
          "base_uri": "https://localhost:8080/"
        },
        "outputId": "3d366a5b-bc19-4555-f8b3-6582b8029585"
      },
      "outputs": [
        {
          "output_type": "stream",
          "name": "stdout",
          "text": [
            "39\n"
          ]
        }
      ],
      "source": [
        "######## your code to transpile IPE circuit goes here ########\n",
        "from qiskit import transpile\n",
        "from qiskit.providers.fake_provider import FakeAthens\n",
        "\n",
        "# Import necessary modules for transpilation\n",
        "backend = FakeAthens()\n",
        "\n",
        "# Define an initial layout (mapping logical qubits to physical qubits)\n",
        "# This can be adapted based on backend properties. Let's assume [0, 1] for simplicity.\n",
        "initial_layout = [0, 1]\n",
        "\n",
        "# Transpile the IPE circuit\n",
        "IPE_trans = transpile(IPE, backend=backend, initial_layout=initial_layout, optimization_level=3)\n",
        "\n",
        "#####################\n",
        "print(IPE_trans.depth())"
      ]
    },
    {
      "cell_type": "markdown",
      "metadata": {
        "id": "kqlQ49tgb4tj"
      },
      "source": [
        "Execute the cell below to transpile QPE circuit."
      ]
    },
    {
      "cell_type": "code",
      "execution_count": null,
      "metadata": {
        "id": "itkxYbUBb4tk",
        "colab": {
          "base_uri": "https://localhost:8080/"
        },
        "outputId": "27688317-0ee3-46f1-a62e-e9d287fe07bd"
      },
      "outputs": [
        {
          "output_type": "stream",
          "name": "stdout",
          "text": [
            "62 80\n"
          ]
        }
      ],
      "source": [
        "num = 500\n",
        "QPE_trans = transpile([QPE]*num, backend, optimization_level=3)\n",
        "QPE_trans_depth = np.array([QPE_trans[idx].depth() for idx in range(num)])\n",
        "print(min(QPE_trans_depth), max(QPE_trans_depth))\n",
        "best_arg = np.argmin(QPE_trans_depth)\n",
        "QPE_trans_best = QPE_trans[best_arg]"
      ]
    },
    {
      "cell_type": "markdown",
      "metadata": {
        "id": "Cvi8ktbNb4tk"
      },
      "source": [
        "#### Step E. Run the following cells to perform the noise simulation of the transipiled circuits.  "
      ]
    },
    {
      "cell_type": "code",
      "execution_count": null,
      "metadata": {
        "id": "ZgeDl3_jb4tk"
      },
      "outputs": [],
      "source": [
        "from qiskit.providers.aer.noise import NoiseModel"
      ]
    },
    {
      "cell_type": "code",
      "execution_count": null,
      "metadata": {
        "id": "D1LqUf7bb4tl"
      },
      "outputs": [],
      "source": [
        "noise_model = NoiseModel.from_backend(backend)\n",
        "shots = 20000\n",
        "\n",
        "counts = execute([IPE_trans, QPE_trans_best], sim, noise_model=noise_model).result().get_counts()"
      ]
    },
    {
      "cell_type": "markdown",
      "metadata": {
        "id": "G7ewW-IXb4tl"
      },
      "source": [
        "#### Step F. Execute the cell below to compute the exact phase estimation results."
      ]
    },
    {
      "cell_type": "code",
      "execution_count": null,
      "metadata": {
        "id": "Ydp16ESFb4tm"
      },
      "outputs": [],
      "source": [
        "from qiskit.quantum_info import Statevector\n",
        "\n",
        "QPE_exact = QuantumCircuit(t+1)\n",
        "QPE_exact.h(range(t))\n",
        "QPE_exact.x(t)\n",
        "for idx in range(t):\n",
        "    QPE_exact.cp(psi*2**idx, idx, t)\n",
        "\n",
        "qft_dag = qft(t).to_gate().inverse()\n",
        "qft_dag.label = 'QFT+'\n",
        "QPE_exact.append(qft_dag, range(t))\n",
        "\n",
        "#QPE_exact.draw('mpl')\n",
        "\n",
        "state = Statevector.from_instruction(QPE_exact)\n",
        "pmf = state.probabilities_dict(range(4))"
      ]
    },
    {
      "cell_type": "markdown",
      "metadata": {
        "id": "MrRbbg83b4tn"
      },
      "source": [
        "#### Step G. Show the comparison figure by running the following cell."
      ]
    },
    {
      "cell_type": "code",
      "execution_count": null,
      "metadata": {
        "id": "yanSVmTFb4tn",
        "colab": {
          "base_uri": "https://localhost:8080/",
          "height": 411
        },
        "outputId": "bd0221eb-b36b-4dc0-bd85-d9f14cb20cc5"
      },
      "outputs": [
        {
          "output_type": "display_data",
          "data": {
            "text/plain": [
              "<Figure size 3200x1000 with 2 Axes>"
            ],
            "image/png": "[encoded data removed]"
          },
          "metadata": {}
        }
      ],
      "source": [
        "def count_new(count):\n",
        "    phi_est = np.array([round(int(key, 2)/2**t, 3) for key in list(count.keys())])\n",
        "    key_new = list(map(str, phi_est))\n",
        "    count_new = dict(zip(key_new, count.values()))\n",
        "    return count_new\n",
        "\n",
        "pmf_new = count_new(pmf)\n",
        "count_IPE = count_new(counts[0])\n",
        "count_QPE = count_new(counts[1])\n",
        "\n",
        "fig, ax = plt.subplots(1, 2, figsize=(32,10))\n",
        "fig.suptitle('QPE .vs. IPE for estimating $\\\\theta=1/3$', fontsize=23)\n",
        "plot_histogram([pmf_new, count_QPE], ax=ax[0], legend=['No_noise', 'Athens_sim'])\n",
        "plot_histogram([pmf_new, count_IPE], ax=ax[1], legend=['No_noise', 'Athens_sim'])\n",
        "ax[0].set_title('QPE circuit result', fontsize=16)\n",
        "ax[0].set_xlabel('$\\\\theta$', fontsize=16)\n",
        "ax[1].set_title('IPE circuit result', fontsize=16)\n",
        "ax[1].set_xlabel('$\\\\theta$', fontsize=16)\n",
        "plt.show()"
      ]
    },
    {
      "cell_type": "markdown",
      "metadata": {
        "id": "702fPLPtb4to"
      },
      "source": [
        "If you create the IPE circuit successfully to estimate the phase, $\\theta = \\frac{1}{3}$, you would get the similar plots as shown below."
      ]
    },
    {
      "cell_type": "markdown",
      "metadata": {
        "id": "XMi3UEDbb4to"
      },
      "source": [
        "![](images/L6_QPEvsIPE.png)"
      ]
    },
    {
      "cell_type": "markdown",
      "metadata": {
        "id": "jsmfToWBb4to"
      },
      "source": [
        "#### &#128211;Step G. Discuss about the results."
      ]
    },
    {
      "cell_type": "code",
      "execution_count": null,
      "metadata": {
        "id": "SsqcoI9Ob4tp"
      },
      "outputs": [],
      "source": [
        "\n",
        "\n",
        "\n",
        "\n"
      ]
    }
  ],
  "metadata": {
    "kernelspec": {
      "display_name": "Python 3",
      "language": "python",
      "name": "python3"
    },
    "language_info": {
      "codemirror_mode": {
        "name": "ipython",
        "version": 3
      },
      "file_extension": ".py",
      "mimetype": "text/x-python",
      "name": "python",
      "nbconvert_exporter": "python",
      "pygments_lexer": "ipython3",
      "version": "3.9.10"
    },
    "colab": {
      "provenance": []
    },
    "widgets": {
      "application/vnd.jupyter.widget-state+json": {
        "afe7ac0da5b743fc8ee20bba73b2aa9e": {
          "model_module": "@jupyter-widgets/controls",
          "model_name": "VBoxModel",
          "model_module_version": "1.5.0",
          "state": {
            "_dom_classes": [],
            "_model_module": "@jupyter-widgets/controls",
            "_model_module_version": "1.5.0",
            "_model_name": "VBoxModel",
            "_view_count": null,
            "_view_module": "@jupyter-widgets/controls",
            "_view_module_version": "1.5.0",
            "_view_name": "VBoxView",
            "box_style": "",
            "children": [
              "IPY_MODEL_7293b37c12714f1c9a17b0384133ca3c",
              "IPY_MODEL_cf4e8f81523a45f4bb1308067ec1629c"
            ],
            "layout": "IPY_MODEL_e60f6d395c0f4026b430eb08c50f3048"
          }
        },
        "7293b37c12714f1c9a17b0384133ca3c": {
          "model_module": "@jupyter-widgets/controls",
          "model_name": "HTMLModel",
          "model_module_version": "1.5.0",
          "state": {
            "_dom_classes": [],
            "_model_module": "@jupyter-widgets/controls",
            "_model_module_version": "1.5.0",
            "_model_name": "HTMLModel",
            "_view_count": null,
            "_view_module": "@jupyter-widgets/controls",
            "_view_module_version": "1.5.0",
            "_view_name": "HTMLView",
            "description": "",
            "description_tooltip": null,
            "layout": "IPY_MODEL_6320c97937084122bba8598491250f49",
            "placeholder": "​",
            "style": "IPY_MODEL_9fef4a07c62c4391a128f875ebea2a54",
            "value": "<h1 style='color:#ffffff;background-color:#000000;padding-top: 1%;padding-bottom: 1%;padding-left: 1%; margin-top: 0px'>fake_athens</h1>"
          }
        },
        "cf4e8f81523a45f4bb1308067ec1629c": {
          "model_module": "@jupyter-widgets/controls",
          "model_name": "TabModel",
          "model_module_version": "1.5.0",
          "state": {
            "_dom_classes": [],
            "_model_module": "@jupyter-widgets/controls",
            "_model_module_version": "1.5.0",
            "_model_name": "TabModel",
            "_titles": {
              "0": "Configuration",
              "1": "Qubit Properties",
              "2": "Multi-Qubit Gates",
              "3": "Error Map",
              "4": "Job History"
            },
            "_view_count": null,
            "_view_module": "@jupyter-widgets/controls",
            "_view_module_version": "1.5.0",
            "_view_name": "TabView",
            "box_style": "",
            "children": [
              "IPY_MODEL_f6b2c3d156544cb2bbad330b7d09c656",
              "IPY_MODEL_4111c5c4c2354a68a642e71bf0e40629",
              "IPY_MODEL_794ac9fdb8bc4f53ab5c8ff7645354d9",
              "IPY_MODEL_c592e942e72d4a0a91ceee09aeda7b92",
              "IPY_MODEL_4bb15ab55e284fdabbb1a9c770551f9d"
            ],
            "layout": "IPY_MODEL_a7fb43fe8e584492b2215020d62b3ffc",
            "selected_index": 0
          }
        },
        "e60f6d395c0f4026b430eb08c50f3048": {
          "model_module": "@jupyter-widgets/base",
          "model_name": "LayoutModel",
          "model_module_version": "1.2.0",
          "state": {
            "_model_module": "@jupyter-widgets/base",
            "_model_module_version": "1.2.0",
            "_model_name": "LayoutModel",
            "_view_count": null,
            "_view_module": "@jupyter-widgets/base",
            "_view_module_version": "1.2.0",
            "_view_name": "LayoutView",
            "align_content": null,
            "align_items": null,
            "align_self": null,
            "border": "4px solid #000000",
            "bottom": null,
            "display": null,
            "flex": null,
            "flex_flow": null,
            "grid_area": null,
            "grid_auto_columns": null,
            "grid_auto_flow": null,
            "grid_auto_rows": null,
            "grid_column": null,
            "grid_gap": null,
            "grid_row": null,
            "grid_template_areas": null,
            "grid_template_columns": null,
            "grid_template_rows": null,
            "height": null,
            "justify_content": null,
            "justify_items": null,
            "left": null,
            "margin": null,
            "max_height": "650px",
            "max_width": null,
            "min_height": "650px",
            "min_width": null,
            "object_fit": null,
            "object_position": null,
            "order": null,
            "overflow": null,
            "overflow_x": null,
            "overflow_y": "hidden",
            "padding": null,
            "right": null,
            "top": null,
            "visibility": null,
            "width": null
          }
        },
        "6320c97937084122bba8598491250f49": {
          "model_module": "@jupyter-widgets/base",
          "model_name": "LayoutModel",
          "model_module_version": "1.2.0",
          "state": {
            "_model_module": "@jupyter-widgets/base",
            "_model_module_version": "1.2.0",
            "_model_name": "LayoutModel",
            "_view_count": null,
            "_view_module": "@jupyter-widgets/base",
            "_view_module_version": "1.2.0",
            "_view_name": "LayoutView",
            "align_content": null,
            "align_items": null,
            "align_self": null,
            "border": null,
            "bottom": null,
            "display": null,
            "flex": null,
            "flex_flow": null,
            "grid_area": null,
            "grid_auto_columns": null,
            "grid_auto_flow": null,
            "grid_auto_rows": null,
            "grid_column": null,
            "grid_gap": null,
            "grid_row": null,
            "grid_template_areas": null,
            "grid_template_columns": null,
            "grid_template_rows": null,
            "height": null,
            "justify_content": null,
            "justify_items": null,
            "left": null,
            "margin": "0px 0px 0px 0px",
            "max_height": null,
            "max_width": null,
            "min_height": null,
            "min_width": null,
            "object_fit": null,
            "object_position": null,
            "order": null,
            "overflow": null,
            "overflow_x": null,
            "overflow_y": null,
            "padding": null,
            "right": null,
            "top": null,
            "visibility": null,
            "width": null
          }
        },
        "9fef4a07c62c4391a128f875ebea2a54": {
          "model_module": "@jupyter-widgets/controls",
          "model_name": "DescriptionStyleModel",
          "model_module_version": "1.5.0",
          "state": {
            "_model_module": "@jupyter-widgets/controls",
            "_model_module_version": "1.5.0",
            "_model_name": "DescriptionStyleModel",
            "_view_count": null,
            "_view_module": "@jupyter-widgets/base",
            "_view_module_version": "1.2.0",
            "_view_name": "StyleView",
            "description_width": ""
          }
        },
        "f6b2c3d156544cb2bbad330b7d09c656": {
          "model_module": "@jupyter-widgets/controls",
          "model_name": "GridBoxModel",
          "model_module_version": "1.5.0",
          "state": {
            "_dom_classes": [],
            "_model_module": "@jupyter-widgets/controls",
            "_model_module_version": "1.5.0",
            "_model_name": "GridBoxModel",
            "_view_count": null,
            "_view_module": "@jupyter-widgets/controls",
            "_view_module_version": "1.5.0",
            "_view_name": "GridBoxView",
            "box_style": "",
            "children": [
              "IPY_MODEL_e8a65620a9fa4002bea7e3f54313be43",
              "IPY_MODEL_ecfc2d7174854cedae3b48089ca2f3ab",
              "IPY_MODEL_41b1477ec4ca4712a9a25b7ad72803e4"
            ],
            "layout": "IPY_MODEL_abcf0dcb93944d8ba8e783d38ded6cd5"
          }
        },
        "4111c5c4c2354a68a642e71bf0e40629": {
          "model_module": "@jupyter-widgets/controls",
          "model_name": "VBoxModel",
          "model_module_version": "1.5.0",
          "state": {
            "_dom_classes": [],
            "_model_module": "@jupyter-widgets/controls",
            "_model_module_version": "1.5.0",
            "_model_name": "VBoxModel",
            "_view_count": null,
            "_view_module": "@jupyter-widgets/controls",
            "_view_module_version": "1.5.0",
            "_view_name": "VBoxView",
            "box_style": "",
            "children": [
              "IPY_MODEL_0dcaa531fbdf441f98937af908862dfa",
              "IPY_MODEL_f338403478ae40eb8498cc9bf9a7c121"
            ],
            "layout": "IPY_MODEL_023a3b3fd9bb41c7ab9ae1010bf1efa6"
          }
        },
        "794ac9fdb8bc4f53ab5c8ff7645354d9": {
          "model_module": "@jupyter-widgets/controls",
          "model_name": "GridBoxModel",
          "model_module_version": "1.5.0",
          "state": {
            "_dom_classes": [],
            "_model_module": "@jupyter-widgets/controls",
            "_model_module_version": "1.5.0",
            "_model_name": "GridBoxModel",
            "_view_count": null,
            "_view_module": "@jupyter-widgets/controls",
            "_view_module_version": "1.5.0",
            "_view_name": "GridBoxView",
            "box_style": "",
            "children": [
              "IPY_MODEL_3f4f0210cba04b149656437b0597a714",
              "IPY_MODEL_88cf9a4cfd7e4e37a0d07a94b17c2275",
              "IPY_MODEL_5888f9189aae49f1bbe28acb15592e8c",
              "IPY_MODEL_1ceceeb54a65499c8917fa7e68d38d73"
            ],
            "layout": "IPY_MODEL_0cad35b58e29437d8c32732e47113b53"
          }
        },
        "c592e942e72d4a0a91ceee09aeda7b92": {
          "model_module": "@jupyter-widgets/output",
          "model_name": "OutputModel",
          "model_module_version": "1.0.0",
          "state": {
            "_dom_classes": [],
            "_model_module": "@jupyter-widgets/output",
            "_model_module_version": "1.0.0",
            "_model_name": "OutputModel",
            "_view_count": null,
            "_view_module": "@jupyter-widgets/output",
            "_view_module_version": "1.0.0",
            "_view_name": "OutputView",
            "layout": "IPY_MODEL_6a6c9620fca846a6bfa097b6134c3141",
            "msg_id": "",
            "outputs": [
              {
                "output_type": "display_data",
                "data": {
                  "text/plain": "<Figure size 1100x900 with 5 Axes>",
                  "image/png": "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\n"
                },
                "metadata": {}
              }
            ]
          }
        },
        "4bb15ab55e284fdabbb1a9c770551f9d": {
          "model_module": "@jupyter-widgets/controls",
          "model_name": "TabModel",
          "model_module_version": "1.5.0",
          "state": {
            "_dom_classes": [],
            "_model_module": "@jupyter-widgets/controls",
            "_model_module_version": "1.5.0",
            "_model_name": "TabModel",
            "_titles": {},
            "_view_count": null,
            "_view_module": "@jupyter-widgets/controls",
            "_view_module_version": "1.5.0",
            "_view_name": "TabView",
            "box_style": "",
            "children": [],
            "layout": "IPY_MODEL_f5aa412d14ef4c8ca4fb374da3c9f76e",
            "selected_index": 0
          }
        },
        "a7fb43fe8e584492b2215020d62b3ffc": {
          "model_module": "@jupyter-widgets/base",
          "model_name": "LayoutModel",
          "model_module_version": "1.2.0",
          "state": {
            "_model_module": "@jupyter-widgets/base",
            "_model_module_version": "1.2.0",
            "_model_name": "LayoutModel",
            "_view_count": null,
            "_view_module": "@jupyter-widgets/base",
            "_view_module_version": "1.2.0",
            "_view_name": "LayoutView",
            "align_content": null,
            "align_items": null,
            "align_self": null,
            "border": null,
            "bottom": null,
            "display": null,
            "flex": null,
            "flex_flow": null,
            "grid_area": null,
            "grid_auto_columns": null,
            "grid_auto_flow": null,
            "grid_auto_rows": null,
            "grid_column": null,
            "grid_gap": null,
            "grid_row": null,
            "grid_template_areas": null,
            "grid_template_columns": null,
            "grid_template_rows": null,
            "height": null,
            "justify_content": null,
            "justify_items": null,
            "left": null,
            "margin": null,
            "max_height": null,
            "max_width": null,
            "min_height": null,
            "min_width": null,
            "object_fit": null,
            "object_position": null,
            "order": null,
            "overflow": null,
            "overflow_x": null,
            "overflow_y": "scroll",
            "padding": null,
            "right": null,
            "top": null,
            "visibility": null,
            "width": null
          }
        },
        "e8a65620a9fa4002bea7e3f54313be43": {
          "model_module": "@jupyter-widgets/controls",
          "model_name": "HTMLMathModel",
          "model_module_version": "1.5.0",
          "state": {
            "_dom_classes": [],
            "_model_module": "@jupyter-widgets/controls",
            "_model_module_version": "1.5.0",
            "_model_name": "HTMLMathModel",
            "_view_count": null,
            "_view_module": "@jupyter-widgets/controls",
            "_view_module_version": "1.5.0",
            "_view_name": "HTMLMathView",
            "description": "",
            "description_tooltip": null,
            "layout": "IPY_MODEL_87542c9d752149609ee1d271a4c8af6a",
            "placeholder": "​",
            "style": "IPY_MODEL_f5e5e328d95d4d39ac7d738130675eba",
            "value": "<table><style>\ntable {\n    border-collapse: collapse;\n    width: auto;\n}\n\nth, td {\n    text-align: left;\n    padding: 8px;\n}\n\ntr:nth-child(even) {background-color: #f6f6f6;}\n</style><tr><th>Property</th><th>Value</th></tr><tr><td><font style='font-weight:bold'>n_qubits</font></td><td>5</td></tr><tr><td><font style='font-weight:bold'>quantum_volume</font></td><td>32</td></tr><tr><td><font style='font-weight:bold'>operational</font></td><td>True</td></tr><tr><td><font style='font-weight:bold'>status_msg</font></td><td></td></tr><tr><td><font style='font-weight:bold'>pending_jobs</font></td><td>0</td></tr><tr><td><font style='font-weight:bold'>backend_version</font></td><td>1.3.13</td></tr><tr><td><font style='font-weight:bold'>basis_gates</font></td><td>['id', 'rz', 'sx', 'x', 'cx', 'reset']</td></tr><tr><td><font style='font-weight:bold'>max_shots</font></td><td>8192</td></tr><tr><td><font style='font-weight:bold'>max_experiments</font></td><td>900</td></tr></table>"
          }
        },
        "ecfc2d7174854cedae3b48089ca2f3ab": {
          "model_module": "@jupyter-widgets/output",
          "model_name": "OutputModel",
          "model_module_version": "1.0.0",
          "state": {
            "_dom_classes": [],
            "_model_module": "@jupyter-widgets/output",
            "_model_module_version": "1.0.0",
            "_model_name": "OutputModel",
            "_view_count": null,
            "_view_module": "@jupyter-widgets/output",
            "_view_module_version": "1.0.0",
            "_view_name": "OutputView",
            "layout": "IPY_MODEL_0c6e68c09879467cabc8587f2d49992d",
            "msg_id": "",
            "outputs": [
              {
                "output_type": "display_data",
                "data": {
                  "text/plain": "<Figure size 500x500 with 1 Axes>",
                  "image/png": "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\n"
                },
                "metadata": {}
              }
            ]
          }
        },
        "41b1477ec4ca4712a9a25b7ad72803e4": {
          "model_module": "@jupyter-widgets/controls",
          "model_name": "HTMLMathModel",
          "model_module_version": "1.5.0",
          "state": {
            "_dom_classes": [],
            "_model_module": "@jupyter-widgets/controls",
            "_model_module_version": "1.5.0",
            "_model_name": "HTMLMathModel",
            "_view_count": null,
            "_view_module": "@jupyter-widgets/controls",
            "_view_module_version": "1.5.0",
            "_view_name": "HTMLMathView",
            "description": "",
            "description_tooltip": null,
            "layout": "IPY_MODEL_037fe95dba514e3bba3c31c9f7300a3d",
            "placeholder": "​",
            "style": "IPY_MODEL_c6780599a46c49799754209064050429",
            "value": "<table><style>\ntable {\n    border-collapse: collapse;\n    width: auto;\n}\n\nth, td {\n    text-align: left;\n    padding: 8px;\n}\n\ntr:nth-child(even) {background-color: #f6f6f6;}\n</style><tr><th></th><th></th></tr><tr><td>supported_instructions</td><td>['cx', 'x', 'setf', 'id', 'u3', 'measure', 'u2', 'delay', 'rz', 'acquire', 'play', 'u1', 'reset', 'shiftf', 'sx']</td></tr><tr><td>acquisition_latency</td><td>[]</td></tr><tr><td>discriminators</td><td>['quadratic_discriminator', 'hw_qmfk', 'linear_discriminator']</td></tr><tr><td>meas_map</td><td>[[0, 1, 2, 3, 4]]</td></tr><tr><td>n_registers</td><td>1</td></tr><tr><td>coupling_map</td><td>[[0, 1], [1, 0], [1, 2], [2, 1], [2, 3], [3, 2], [3, 4], [4, 3]]</td></tr><tr><td>rep_times</td><td>[1000.0]</td></tr><tr><td>qubit_lo_range</td><td>[[4.6753836395136075, 5.6753836395136075], [4.767216864382969, 5.767216864382969], [4.5524024697946635, 5.5524024697946635], [4.355916030466884, 5.355916030466884], [4.618554567140891, 5.618554567140891]]</td></tr><tr><td>n_uchannels</td><td>8</td></tr><tr><td>u_channel_lo</td><td>[[{'q': 1, 'scale': (1+0j)}], [{'q': 0, 'scale': (1+0j)}], [{'q': 2, 'scale': (1+0j)}], [{'q': 1, 'scale': (1+0j)}], [{'q': 3, 'scale': (1+0j)}], [{'q': 2, 'scale': (1+0j)}], [{'q': 4, 'scale': (1+0j)}], [{'q': 3, 'scale': (1+0j)}]]</td></tr><tr><td>qubit_channel_mapping</td><td>[['m0', 'u1', 'd0', 'u0'], ['u3', 'u2', 'd1', 'u1', 'u0', 'm1'], ['u5', 'u3', 'u2', 'm2', 'u4', 'd2'], ['u5', 'm3', 'u6', 'u4', 'd3', 'u7'], ['m4', 'u7', 'd4', 'u6']]</td></tr><tr><td>dtm</td><td>0.2222222222222222</td></tr><tr><td>local</td><td>False</td></tr><tr><td>allow_object_storage</td><td>True</td></tr><tr><td>credits_required</td><td>True</td></tr><tr><td>channels</td><td>{'acquire0': {'operates': {'qubits': [0]}, 'purpose': 'acquire', 'type': 'acquire'}, 'acquire1': {'operates': {'qubits': [1]}, 'purpose': 'acquire', 'type': 'acquire'}, 'acquire2': {'operates': {'qubits': [2]}, 'purpose': 'acquire', 'type': 'acquire'}, 'acquire3': {'operates': {'qubits': [3]}, 'purpose': 'acquire', 'type': 'acquire'}, 'acquire4': {'operates': {'qubits': [4]}, 'purpose': 'acquire', 'type': 'acquire'}, 'd0': {'operates': {'qubits': [0]}, 'purpose': 'drive', 'type': 'drive'}, 'd1': {'operates': {'qubits': [1]}, 'purpose': 'drive', 'type': 'drive'}, 'd2': {'operates': {'qubits': [2]}, 'purpose': 'drive', 'type': 'drive'}, 'd3': {'operates': {'qubits': [3]}, 'purpose': 'drive', 'type': 'drive'}, 'd4': {'operates': {'qubits': [4]}, 'purpose': 'drive', 'type': 'drive'}, 'm0': {'operates': {'qubits': [0]}, 'purpose': 'measure', 'type': 'measure'}, 'm1': {'operates': {'qubits': [1]}, 'purpose': 'measure', 'type': 'measure'}, 'm2': {'operates': {'qubits': [2]}, 'purpose': 'measure', 'type': 'measure'}, 'm3': {'operates': {'qubits': [3]}, 'purpose': 'measure', 'type': 'measure'}, 'm4': {'operates': {'qubits': [4]}, 'purpose': 'measure', 'type': 'measure'}, 'u0': {'operates': {'qubits': [0, 1]}, 'purpose': 'cross-resonance', 'type': 'control'}, 'u1': {'operates': {'qubits': [1, 0]}, 'purpose': 'cross-resonance', 'type': 'control'}, 'u2': {'operates': {'qubits': [1, 2]}, 'purpose': 'cross-resonance', 'type': 'control'}, 'u3': {'operates': {'qubits': [2, 1]}, 'purpose': 'cross-resonance', 'type': 'control'}, 'u4': {'operates': {'qubits': [2, 3]}, 'purpose': 'cross-resonance', 'type': 'control'}, 'u5': {'operates': {'qubits': [3, 2]}, 'purpose': 'cross-resonance', 'type': 'control'}, 'u6': {'operates': {'qubits': [3, 4]}, 'purpose': 'cross-resonance', 'type': 'control'}, 'u7': {'operates': {'qubits': [4, 3]}, 'purpose': 'cross-resonance', 'type': 'control'}}</td></tr><tr><td>online_date</td><td>2020-03-13 04:00:00+00:00</td></tr><tr><td>hamiltonian</td><td>$$\\begin{align} \\mathcal{H}/\\hbar = & \\sum_{i=0}^{4}\\left(\\frac{\\omega_{q,i}}{2}(\\mathbb{I}-\\sigma_i^{z})+\\frac{\\Delta_{i}}{2}(O_i^2-O_i)+\\Omega_{d,i}D_i(t)\\sigma_i^{X}\\right) \\\\ & + J_{1,2}(\\sigma_{1}^{+}\\sigma_{2}^{-}+\\sigma_{1}^{-}\\sigma_{2}^{+}) + J_{3,4}(\\sigma_{3}^{+}\\sigma_{4}^{-}+\\sigma_{3}^{-}\\sigma_{4}^{+}) + J_{0,1}(\\sigma_{0}^{+}\\sigma_{1}^{-}+\\sigma_{0}^{-}\\sigma_{1}^{+}) + J_{2,3}(\\sigma_{2}^{+}\\sigma_{3}^{-}+\\sigma_{2}^{-}\\sigma_{3}^{+}) \\\\ & + \\Omega_{d,0}(U_{0}^{(0,1)}(t))\\sigma_{0}^{X} + \\Omega_{d,1}(U_{1}^{(1,0)}(t)+U_{2}^{(1,2)}(t))\\sigma_{1}^{X} \\\\ & + \\Omega_{d,2}(U_{3}^{(2,1)}(t)+U_{4}^{(2,3)}(t))\\sigma_{2}^{X} + \\Omega_{d,3}(U_{6}^{(3,4)}(t)+U_{5}^{(3,2)}(t))\\sigma_{3}^{X} \\\\ & + \\Omega_{d,4}(U_{7}^{(4,3)}(t))\\sigma_{4}^{X} \\\\ \\end{align}$$</td></tr><tr><td>simulator</td><td>False</td></tr><tr><td>parametric_pulses</td><td>['gaussian', 'gaussian_square', 'drag', 'constant']</td></tr><tr><td>conditional</td><td>False</td></tr><tr><td>memory</td><td>True</td></tr><tr><td>meas_levels</td><td>[1, 2]</td></tr><tr><td>backend_name</td><td>fake_athens</td></tr><tr><td>processor_type</td><td>{'family': 'Falcon', 'revision': 4, 'segment': 'L'}</td></tr><tr><td>open_pulse</td><td>True</td></tr><tr><td>conditional_latency</td><td>[]</td></tr><tr><td>uchannels_enabled</td><td>True</td></tr><tr><td>rep_delay_range</td><td>[0.0, 500.0]</td></tr><tr><td>url</td><td>None</td></tr><tr><td>dt</td><td>0.2222222222222222</td></tr><tr><td>dynamic_reprate_enabled</td><td>True</td></tr><tr><td>allow_q_object</td><td>True</td></tr><tr><td>sample_name</td><td>family: Falcon, revision: 4, segment: L</td></tr><tr><td>description</td><td>5 qubit device</td></tr><tr><td>multi_meas_enabled</td><td>True</td></tr><tr><td>default_rep_delay</td><td>250.0</td></tr><tr><td>meas_kernels</td><td>['hw_qmfk']</td></tr><tr><td>meas_lo_range</td><td>[[6.714107437, 7.714107437000002], [6.860372122, 7.860372122], [6.798419517, 7.798419517], [6.663115298, 7.663115298], [6.911673028, 7.911673028]]</td></tr></table>"
          }
        },
        "abcf0dcb93944d8ba8e783d38ded6cd5": {
          "model_module": "@jupyter-widgets/base",
          "model_name": "LayoutModel",
          "model_module_version": "1.2.0",
          "state": {
            "_model_module": "@jupyter-widgets/base",
            "_model_module_version": "1.2.0",
            "_model_name": "LayoutModel",
            "_view_count": null,
            "_view_module": "@jupyter-widgets/base",
            "_view_module_version": "1.2.0",
            "_view_name": "LayoutView",
            "align_content": null,
            "align_items": null,
            "align_self": null,
            "border": null,
            "bottom": null,
            "display": null,
            "flex": null,
            "flex_flow": null,
            "grid_area": null,
            "grid_auto_columns": null,
            "grid_auto_flow": null,
            "grid_auto_rows": null,
            "grid_column": null,
            "grid_gap": "0px 0px",
            "grid_row": null,
            "grid_template_areas": "\n                               \"left right right right\"\n                               \"bottom bottom bottom bottom\"\n                               ",
            "grid_template_columns": "31% 23% 23% 23%",
            "grid_template_rows": "auto auto",
            "height": null,
            "justify_content": null,
            "justify_items": null,
            "left": null,
            "margin": null,
            "max_height": null,
            "max_width": null,
            "min_height": null,
            "min_width": null,
            "object_fit": null,
            "object_position": null,
            "order": null,
            "overflow": null,
            "overflow_x": null,
            "overflow_y": null,
            "padding": null,
            "right": null,
            "top": null,
            "visibility": null,
            "width": null
          }
        },
        "0dcaa531fbdf441f98937af908862dfa": {
          "model_module": "@jupyter-widgets/controls",
          "model_name": "HTMLModel",
          "model_module_version": "1.5.0",
          "state": {
            "_dom_classes": [],
            "_model_module": "@jupyter-widgets/controls",
            "_model_module_version": "1.5.0",
            "_model_name": "HTMLModel",
            "_view_count": null,
            "_view_module": "@jupyter-widgets/controls",
            "_view_module_version": "1.5.0",
            "_view_name": "HTMLView",
            "description": "",
            "description_tooltip": null,
            "layout": "IPY_MODEL_8e399861451c48e4a304eb85034d1af5",
            "placeholder": "​",
            "style": "IPY_MODEL_86bc3592a08244abb1955597181502a3",
            "value": "<div><font style='font-weight:bold'>last_update_date</font>: Mon 15 March 2021 at 14:10 </div>"
          }
        },
        "f338403478ae40eb8498cc9bf9a7c121": {
          "model_module": "@jupyter-widgets/controls",
          "model_name": "HTMLModel",
          "model_module_version": "1.5.0",
          "state": {
            "_dom_classes": [],
            "_model_module": "@jupyter-widgets/controls",
            "_model_module_version": "1.5.0",
            "_model_name": "HTMLModel",
            "_view_count": null,
            "_view_module": "@jupyter-widgets/controls",
            "_view_module_version": "1.5.0",
            "_view_name": "HTMLView",
            "description": "",
            "description_tooltip": null,
            "layout": "IPY_MODEL_99316a2f1f7f40488a954c25e31af835",
            "placeholder": "​",
            "style": "IPY_MODEL_ad37d156a602449d9675d1a94fa924b7",
            "value": "<table><style>\ntable {\n    border-collapse: collapse;\n    width: auto;\n}\n\nth, td {\n    text-align: left;\n    padding: 8px;\n}\n\ntr:nth-child(even) {background-color: #f6f6f6;}\n</style><tr><th></th><th>Frequency</th><th>T1</th><th>T2</th><th>RZ</th><th>SX</th><th>X</th><th>Readout error</th></tr><tr><td><font style='font-weight:bold'>Q0</font></td><td>5.17538 GHz</td><td>63.48783 us</td><td>112.23246 us</td><td>0</td><td>0.00038</td><td>0.00038</td><td>0.0101 </td><tr><td><font style='font-weight:bold'>Q1</font></td><td>5.26722 GHz</td><td>73.09352 us</td><td>126.83382 us</td><td>0</td><td>0.00031</td><td>0.00031</td><td>0.0117 </td><tr><td><font style='font-weight:bold'>Q2</font></td><td>5.0524 GHz</td><td>32.91818 us</td><td>59.80644 us</td><td>0</td><td>0.00031</td><td>0.00031</td><td>0.0243 </td><tr><td><font style='font-weight:bold'>Q3</font></td><td>4.85592 GHz</td><td>49.51085 us</td><td>20.55131 us</td><td>0</td><td>0.00112</td><td>0.00112</td><td>0.0153 </td><tr><td><font style='font-weight:bold'>Q4</font></td><td>5.11855 GHz</td><td>111.44095 us</td><td>168.76254 us</td><td>0</td><td>0.0003</td><td>0.0003</td><td>0.0219 </td></table>"
          }
        },
        "023a3b3fd9bb41c7ab9ae1010bf1efa6": {
          "model_module": "@jupyter-widgets/base",
          "model_name": "LayoutModel",
          "model_module_version": "1.2.0",
          "state": {
            "_model_module": "@jupyter-widgets/base",
            "_model_module_version": "1.2.0",
            "_model_name": "LayoutModel",
            "_view_count": null,
            "_view_module": "@jupyter-widgets/base",
            "_view_module_version": "1.2.0",
            "_view_name": "LayoutView",
            "align_content": null,
            "align_items": null,
            "align_self": null,
            "border": null,
            "bottom": null,
            "display": null,
            "flex": null,
            "flex_flow": null,
            "grid_area": null,
            "grid_auto_columns": null,
            "grid_auto_flow": null,
            "grid_auto_rows": null,
            "grid_column": null,
            "grid_gap": null,
            "grid_row": null,
            "grid_template_areas": null,
            "grid_template_columns": null,
            "grid_template_rows": null,
            "height": null,
            "justify_content": null,
            "justify_items": null,
            "left": null,
            "margin": null,
            "max_height": null,
            "max_width": null,
            "min_height": null,
            "min_width": null,
            "object_fit": null,
            "object_position": null,
            "order": null,
            "overflow": null,
            "overflow_x": null,
            "overflow_y": null,
            "padding": null,
            "right": null,
            "top": null,
            "visibility": null,
            "width": null
          }
        },
        "3f4f0210cba04b149656437b0597a714": {
          "model_module": "@jupyter-widgets/controls",
          "model_name": "HTMLModel",
          "model_module_version": "1.5.0",
          "state": {
            "_dom_classes": [],
            "_model_module": "@jupyter-widgets/controls",
            "_model_module_version": "1.5.0",
            "_model_name": "HTMLModel",
            "_view_count": null,
            "_view_module": "@jupyter-widgets/controls",
            "_view_module_version": "1.5.0",
            "_view_name": "HTMLView",
            "description": "",
            "description_tooltip": null,
            "layout": "IPY_MODEL_6e3867c175694d9abe06d0c1a95024d1",
            "placeholder": "​",
            "style": "IPY_MODEL_648c22e4b9af42609723c5311f15ddf5",
            "value": "<div><font style='font-weight:bold'>last_update_date</font>: 2021-03-15 14:10:39-04:00</div>"
          }
        },
        "88cf9a4cfd7e4e37a0d07a94b17c2275": {
          "model_module": "@jupyter-widgets/controls",
          "model_name": "HTMLModel",
          "model_module_version": "1.5.0",
          "state": {
            "_dom_classes": [],
            "_model_module": "@jupyter-widgets/controls",
            "_model_module_version": "1.5.0",
            "_model_name": "HTMLModel",
            "_view_count": null,
            "_view_module": "@jupyter-widgets/controls",
            "_view_module_version": "1.5.0",
            "_view_name": "HTMLView",
            "description": "",
            "description_tooltip": null,
            "layout": "IPY_MODEL_4d5a1fe7d6844408b1cae561cd0e4051",
            "placeholder": "​",
            "style": "IPY_MODEL_20b099505c214b3fb85c836a5acd659b",
            "value": "<table><style>\ntable {\n    border-collapse: collapse;\n    width: auto;\n}\n\nth, td {\n    text-align: left;\n    padding: 8px;\n}\n\ntr:nth-child(even) {background-color: #f6f6f6;};\n</style><tr><th></th><th>Type</th><th>Gate error</th></tr><tr><td><font style='font-weight:bold'>cx4_3</font></td><td>cx</td><td>0.01808</td></tr><tr><td><font style='font-weight:bold'>cx3_4</font></td><td>cx</td><td>0.01808</td></tr><tr><td><font style='font-weight:bold'>cx2_3</font></td><td>cx</td><td>0.02542</td></tr></table>"
          }
        },
        "5888f9189aae49f1bbe28acb15592e8c": {
          "model_module": "@jupyter-widgets/controls",
          "model_name": "HTMLModel",
          "model_module_version": "1.5.0",
          "state": {
            "_dom_classes": [],
            "_model_module": "@jupyter-widgets/controls",
            "_model_module_version": "1.5.0",
            "_model_name": "HTMLModel",
            "_view_count": null,
            "_view_module": "@jupyter-widgets/controls",
            "_view_module_version": "1.5.0",
            "_view_name": "HTMLView",
            "description": "",
            "description_tooltip": null,
            "layout": "IPY_MODEL_bba9e1fcb0b74cad8108587b05623fcc",
            "placeholder": "​",
            "style": "IPY_MODEL_3df596310992415fb5c78bf1f4101ffc",
            "value": "<table><style>\ntable {\n    border-collapse: collapse;\n    width: auto;\n}\n\nth, td {\n    text-align: left;\n    padding: 8px;\n}\n\ntr:nth-child(even) {background-color: #f6f6f6;};\n</style><tr><th></th><th>Type</th><th>Gate error</th></tr><tr><td><font style='font-weight:bold'>cx3_2</font></td><td>cx</td><td>0.02542</td></tr><tr><td><font style='font-weight:bold'>cx1_2</font></td><td>cx</td><td>0.00796</td></tr><tr><td><font style='font-weight:bold'>cx2_1</font></td><td>cx</td><td>0.00796</td></tr></table>"
          }
        },
        "1ceceeb54a65499c8917fa7e68d38d73": {
          "model_module": "@jupyter-widgets/controls",
          "model_name": "HTMLModel",
          "model_module_version": "1.5.0",
          "state": {
            "_dom_classes": [],
            "_model_module": "@jupyter-widgets/controls",
            "_model_module_version": "1.5.0",
            "_model_name": "HTMLModel",
            "_view_count": null,
            "_view_module": "@jupyter-widgets/controls",
            "_view_module_version": "1.5.0",
            "_view_name": "HTMLView",
            "description": "",
            "description_tooltip": null,
            "layout": "IPY_MODEL_0cf599775b594866a48b12188800fac9",
            "placeholder": "​",
            "style": "IPY_MODEL_be93e9fb7a614389b8e6400646f685c1",
            "value": "<table><style>\ntable {\n    border-collapse: collapse;\n    width: auto;\n}\n\nth, td {\n    text-align: left;\n    padding: 8px;\n}\n\ntr:nth-child(even) {background-color: #f6f6f6;};\n</style><tr><th></th><th>Type</th><th>Gate error</th></tr><tr><td><font style='font-weight:bold'>cx1_0</font></td><td>cx</td><td>0.01111</td></tr><tr><td><font style='font-weight:bold'>cx0_1</font></td><td>cx</td><td>0.01111</td></tr></table>"
          }
        },
        "0cad35b58e29437d8c32732e47113b53": {
          "model_module": "@jupyter-widgets/base",
          "model_name": "LayoutModel",
          "model_module_version": "1.2.0",
          "state": {
            "_model_module": "@jupyter-widgets/base",
            "_model_module_version": "1.2.0",
            "_model_name": "LayoutModel",
            "_view_count": null,
            "_view_module": "@jupyter-widgets/base",
            "_view_module_version": "1.2.0",
            "_view_name": "LayoutView",
            "align_content": null,
            "align_items": null,
            "align_self": null,
            "border": null,
            "bottom": null,
            "display": null,
            "flex": null,
            "flex_flow": null,
            "grid_area": null,
            "grid_auto_columns": null,
            "grid_auto_flow": null,
            "grid_auto_rows": null,
            "grid_column": null,
            "grid_gap": "0px 0px",
            "grid_row": null,
            "grid_template_areas": "\n                                                   \"top top top\"\n                                                   \"left middle right\"\n                                                   ",
            "grid_template_columns": "33% 33% 33%",
            "grid_template_rows": "auto auto",
            "height": null,
            "justify_content": null,
            "justify_items": null,
            "left": null,
            "margin": null,
            "max_height": null,
            "max_width": null,
            "min_height": null,
            "min_width": null,
            "object_fit": null,
            "object_position": null,
            "order": null,
            "overflow": null,
            "overflow_x": null,
            "overflow_y": null,
            "padding": null,
            "right": null,
            "top": null,
            "visibility": null,
            "width": null
          }
        },
        "f5aa412d14ef4c8ca4fb374da3c9f76e": {
          "model_module": "@jupyter-widgets/base",
          "model_name": "LayoutModel",
          "model_module_version": "1.2.0",
          "state": {
            "_model_module": "@jupyter-widgets/base",
            "_model_module_version": "1.2.0",
            "_model_name": "LayoutModel",
            "_view_count": null,
            "_view_module": "@jupyter-widgets/base",
            "_view_module_version": "1.2.0",
            "_view_name": "LayoutView",
            "align_content": null,
            "align_items": null,
            "align_self": null,
            "border": null,
            "bottom": null,
            "display": null,
            "flex": null,
            "flex_flow": null,
            "grid_area": null,
            "grid_auto_columns": null,
            "grid_auto_flow": null,
            "grid_auto_rows": null,
            "grid_column": null,
            "grid_gap": null,
            "grid_row": null,
            "grid_template_areas": null,
            "grid_template_columns": null,
            "grid_template_rows": null,
            "height": null,
            "justify_content": null,
            "justify_items": null,
            "left": null,
            "margin": null,
            "max_height": "620px",
            "max_width": null,
            "min_height": null,
            "min_width": null,
            "object_fit": null,
            "object_position": null,
            "order": null,
            "overflow": null,
            "overflow_x": null,
            "overflow_y": null,
            "padding": null,
            "right": null,
            "top": null,
            "visibility": null,
            "width": null
          }
        },
        "87542c9d752149609ee1d271a4c8af6a": {
          "model_module": "@jupyter-widgets/base",
          "model_name": "LayoutModel",
          "model_module_version": "1.2.0",
          "state": {
            "_model_module": "@jupyter-widgets/base",
            "_model_module_version": "1.2.0",
            "_model_name": "LayoutModel",
            "_view_count": null,
            "_view_module": "@jupyter-widgets/base",
            "_view_module_version": "1.2.0",
            "_view_name": "LayoutView",
            "align_content": null,
            "align_items": null,
            "align_self": null,
            "border": null,
            "bottom": null,
            "display": null,
            "flex": null,
            "flex_flow": null,
            "grid_area": "left",
            "grid_auto_columns": null,
            "grid_auto_flow": null,
            "grid_auto_rows": null,
            "grid_column": null,
            "grid_gap": null,
            "grid_row": null,
            "grid_template_areas": null,
            "grid_template_columns": null,
            "grid_template_rows": null,
            "height": null,
            "justify_content": null,
            "justify_items": null,
            "left": null,
            "margin": null,
            "max_height": null,
            "max_width": null,
            "min_height": null,
            "min_width": null,
            "object_fit": null,
            "object_position": null,
            "order": null,
            "overflow": null,
            "overflow_x": null,
            "overflow_y": null,
            "padding": null,
            "right": null,
            "top": null,
            "visibility": null,
            "width": "100%"
          }
        },
        "f5e5e328d95d4d39ac7d738130675eba": {
          "model_module": "@jupyter-widgets/controls",
          "model_name": "DescriptionStyleModel",
          "model_module_version": "1.5.0",
          "state": {
            "_model_module": "@jupyter-widgets/controls",
            "_model_module_version": "1.5.0",
            "_model_name": "DescriptionStyleModel",
            "_view_count": null,
            "_view_module": "@jupyter-widgets/base",
            "_view_module_version": "1.2.0",
            "_view_name": "StyleView",
            "description_width": ""
          }
        },
        "037fe95dba514e3bba3c31c9f7300a3d": {
          "model_module": "@jupyter-widgets/base",
          "model_name": "LayoutModel",
          "model_module_version": "1.2.0",
          "state": {
            "_model_module": "@jupyter-widgets/base",
            "_model_module_version": "1.2.0",
            "_model_name": "LayoutModel",
            "_view_count": null,
            "_view_module": "@jupyter-widgets/base",
            "_view_module_version": "1.2.0",
            "_view_name": "LayoutView",
            "align_content": null,
            "align_items": null,
            "align_self": null,
            "border": null,
            "bottom": null,
            "display": null,
            "flex": null,
            "flex_flow": null,
            "grid_area": "bottom",
            "grid_auto_columns": null,
            "grid_auto_flow": null,
            "grid_auto_rows": null,
            "grid_column": null,
            "grid_gap": null,
            "grid_row": null,
            "grid_template_areas": null,
            "grid_template_columns": null,
            "grid_template_rows": null,
            "height": null,
            "justify_content": null,
            "justify_items": null,
            "left": null,
            "margin": null,
            "max_height": null,
            "max_width": null,
            "min_height": null,
            "min_width": null,
            "object_fit": null,
            "object_position": null,
            "order": null,
            "overflow": null,
            "overflow_x": null,
            "overflow_y": null,
            "padding": null,
            "right": null,
            "top": null,
            "visibility": null,
            "width": "auto"
          }
        },
        "c6780599a46c49799754209064050429": {
          "model_module": "@jupyter-widgets/controls",
          "model_name": "DescriptionStyleModel",
          "model_module_version": "1.5.0",
          "state": {
            "_model_module": "@jupyter-widgets/controls",
            "_model_module_version": "1.5.0",
            "_model_name": "DescriptionStyleModel",
            "_view_count": null,
            "_view_module": "@jupyter-widgets/base",
            "_view_module_version": "1.2.0",
            "_view_name": "StyleView",
            "description_width": ""
          }
        },
        "8e399861451c48e4a304eb85034d1af5": {
          "model_module": "@jupyter-widgets/base",
          "model_name": "LayoutModel",
          "model_module_version": "1.2.0",
          "state": {
            "_model_module": "@jupyter-widgets/base",
            "_model_module_version": "1.2.0",
            "_model_name": "LayoutModel",
            "_view_count": null,
            "_view_module": "@jupyter-widgets/base",
            "_view_module_version": "1.2.0",
            "_view_name": "LayoutView",
            "align_content": null,
            "align_items": null,
            "align_self": null,
            "border": null,
            "bottom": null,
            "display": null,
            "flex": null,
            "flex_flow": null,
            "grid_area": null,
            "grid_auto_columns": null,
            "grid_auto_flow": null,
            "grid_auto_rows": null,
            "grid_column": null,
            "grid_gap": null,
            "grid_row": null,
            "grid_template_areas": null,
            "grid_template_columns": null,
            "grid_template_rows": null,
            "height": null,
            "justify_content": null,
            "justify_items": null,
            "left": null,
            "margin": null,
            "max_height": null,
            "max_width": null,
            "min_height": null,
            "min_width": null,
            "object_fit": null,
            "object_position": null,
            "order": null,
            "overflow": null,
            "overflow_x": null,
            "overflow_y": null,
            "padding": null,
            "right": null,
            "top": null,
            "visibility": null,
            "width": null
          }
        },
        "86bc3592a08244abb1955597181502a3": {
          "model_module": "@jupyter-widgets/controls",
          "model_name": "DescriptionStyleModel",
          "model_module_version": "1.5.0",
          "state": {
            "_model_module": "@jupyter-widgets/controls",
            "_model_module_version": "1.5.0",
            "_model_name": "DescriptionStyleModel",
            "_view_count": null,
            "_view_module": "@jupyter-widgets/base",
            "_view_module_version": "1.2.0",
            "_view_name": "StyleView",
            "description_width": ""
          }
        },
        "99316a2f1f7f40488a954c25e31af835": {
          "model_module": "@jupyter-widgets/base",
          "model_name": "LayoutModel",
          "model_module_version": "1.2.0",
          "state": {
            "_model_module": "@jupyter-widgets/base",
            "_model_module_version": "1.2.0",
            "_model_name": "LayoutModel",
            "_view_count": null,
            "_view_module": "@jupyter-widgets/base",
            "_view_module_version": "1.2.0",
            "_view_name": "LayoutView",
            "align_content": null,
            "align_items": null,
            "align_self": null,
            "border": null,
            "bottom": null,
            "display": null,
            "flex": null,
            "flex_flow": null,
            "grid_area": null,
            "grid_auto_columns": null,
            "grid_auto_flow": null,
            "grid_auto_rows": null,
            "grid_column": null,
            "grid_gap": null,
            "grid_row": null,
            "grid_template_areas": null,
            "grid_template_columns": null,
            "grid_template_rows": null,
            "height": null,
            "justify_content": null,
            "justify_items": null,
            "left": null,
            "margin": null,
            "max_height": null,
            "max_width": null,
            "min_height": null,
            "min_width": null,
            "object_fit": null,
            "object_position": null,
            "order": null,
            "overflow": null,
            "overflow_x": null,
            "overflow_y": null,
            "padding": null,
            "right": null,
            "top": null,
            "visibility": null,
            "width": null
          }
        },
        "ad37d156a602449d9675d1a94fa924b7": {
          "model_module": "@jupyter-widgets/controls",
          "model_name": "DescriptionStyleModel",
          "model_module_version": "1.5.0",
          "state": {
            "_model_module": "@jupyter-widgets/controls",
            "_model_module_version": "1.5.0",
            "_model_name": "DescriptionStyleModel",
            "_view_count": null,
            "_view_module": "@jupyter-widgets/base",
            "_view_module_version": "1.2.0",
            "_view_name": "StyleView",
            "description_width": ""
          }
        },
        "6e3867c175694d9abe06d0c1a95024d1": {
          "model_module": "@jupyter-widgets/base",
          "model_name": "LayoutModel",
          "model_module_version": "1.2.0",
          "state": {
            "_model_module": "@jupyter-widgets/base",
            "_model_module_version": "1.2.0",
            "_model_name": "LayoutModel",
            "_view_count": null,
            "_view_module": "@jupyter-widgets/base",
            "_view_module_version": "1.2.0",
            "_view_name": "LayoutView",
            "align_content": null,
            "align_items": null,
            "align_self": null,
            "border": null,
            "bottom": null,
            "display": null,
            "flex": null,
            "flex_flow": null,
            "grid_area": "top",
            "grid_auto_columns": null,
            "grid_auto_flow": null,
            "grid_auto_rows": null,
            "grid_column": null,
            "grid_gap": null,
            "grid_row": null,
            "grid_template_areas": null,
            "grid_template_columns": null,
            "grid_template_rows": null,
            "height": null,
            "justify_content": null,
            "justify_items": null,
            "left": null,
            "margin": null,
            "max_height": null,
            "max_width": null,
            "min_height": null,
            "min_width": null,
            "object_fit": null,
            "object_position": null,
            "order": null,
            "overflow": null,
            "overflow_x": null,
            "overflow_y": null,
            "padding": null,
            "right": null,
            "top": null,
            "visibility": null,
            "width": null
          }
        },
        "648c22e4b9af42609723c5311f15ddf5": {
          "model_module": "@jupyter-widgets/controls",
          "model_name": "DescriptionStyleModel",
          "model_module_version": "1.5.0",
          "state": {
            "_model_module": "@jupyter-widgets/controls",
            "_model_module_version": "1.5.0",
            "_model_name": "DescriptionStyleModel",
            "_view_count": null,
            "_view_module": "@jupyter-widgets/base",
            "_view_module_version": "1.2.0",
            "_view_name": "StyleView",
            "description_width": ""
          }
        },
        "4d5a1fe7d6844408b1cae561cd0e4051": {
          "model_module": "@jupyter-widgets/base",
          "model_name": "LayoutModel",
          "model_module_version": "1.2.0",
          "state": {
            "_model_module": "@jupyter-widgets/base",
            "_model_module_version": "1.2.0",
            "_model_name": "LayoutModel",
            "_view_count": null,
            "_view_module": "@jupyter-widgets/base",
            "_view_module_version": "1.2.0",
            "_view_name": "LayoutView",
            "align_content": null,
            "align_items": null,
            "align_self": null,
            "border": null,
            "bottom": null,
            "display": null,
            "flex": null,
            "flex_flow": null,
            "grid_area": "left",
            "grid_auto_columns": null,
            "grid_auto_flow": null,
            "grid_auto_rows": null,
            "grid_column": null,
            "grid_gap": null,
            "grid_row": null,
            "grid_template_areas": null,
            "grid_template_columns": null,
            "grid_template_rows": null,
            "height": null,
            "justify_content": null,
            "justify_items": null,
            "left": null,
            "margin": null,
            "max_height": null,
            "max_width": null,
            "min_height": null,
            "min_width": null,
            "object_fit": null,
            "object_position": null,
            "order": null,
            "overflow": null,
            "overflow_x": null,
            "overflow_y": null,
            "padding": null,
            "right": null,
            "top": null,
            "visibility": null,
            "width": null
          }
        },
        "20b099505c214b3fb85c836a5acd659b": {
          "model_module": "@jupyter-widgets/controls",
          "model_name": "DescriptionStyleModel",
          "model_module_version": "1.5.0",
          "state": {
            "_model_module": "@jupyter-widgets/controls",
            "_model_module_version": "1.5.0",
            "_model_name": "DescriptionStyleModel",
            "_view_count": null,
            "_view_module": "@jupyter-widgets/base",
            "_view_module_version": "1.2.0",
            "_view_name": "StyleView",
            "description_width": ""
          }
        },
        "bba9e1fcb0b74cad8108587b05623fcc": {
          "model_module": "@jupyter-widgets/base",
          "model_name": "LayoutModel",
          "model_module_version": "1.2.0",
          "state": {
            "_model_module": "@jupyter-widgets/base",
            "_model_module_version": "1.2.0",
            "_model_name": "LayoutModel",
            "_view_count": null,
            "_view_module": "@jupyter-widgets/base",
            "_view_module_version": "1.2.0",
            "_view_name": "LayoutView",
            "align_content": null,
            "align_items": null,
            "align_self": null,
            "border": null,
            "bottom": null,
            "display": null,
            "flex": null,
            "flex_flow": null,
            "grid_area": "middle",
            "grid_auto_columns": null,
            "grid_auto_flow": null,
            "grid_auto_rows": null,
            "grid_column": null,
            "grid_gap": null,
            "grid_row": null,
            "grid_template_areas": null,
            "grid_template_columns": null,
            "grid_template_rows": null,
            "height": null,
            "justify_content": null,
            "justify_items": null,
            "left": null,
            "margin": null,
            "max_height": null,
            "max_width": null,
            "min_height": null,
            "min_width": null,
            "object_fit": null,
            "object_position": null,
            "order": null,
            "overflow": null,
            "overflow_x": null,
            "overflow_y": null,
            "padding": null,
            "right": null,
            "top": null,
            "visibility": null,
            "width": null
          }
        },
        "3df596310992415fb5c78bf1f4101ffc": {
          "model_module": "@jupyter-widgets/controls",
          "model_name": "DescriptionStyleModel",
          "model_module_version": "1.5.0",
          "state": {
            "_model_module": "@jupyter-widgets/controls",
            "_model_module_version": "1.5.0",
            "_model_name": "DescriptionStyleModel",
            "_view_count": null,
            "_view_module": "@jupyter-widgets/base",
            "_view_module_version": "1.2.0",
            "_view_name": "StyleView",
            "description_width": ""
          }
        },
        "0cf599775b594866a48b12188800fac9": {
          "model_module": "@jupyter-widgets/base",
          "model_name": "LayoutModel",
          "model_module_version": "1.2.0",
          "state": {
            "_model_module": "@jupyter-widgets/base",
            "_model_module_version": "1.2.0",
            "_model_name": "LayoutModel",
            "_view_count": null,
            "_view_module": "@jupyter-widgets/base",
            "_view_module_version": "1.2.0",
            "_view_name": "LayoutView",
            "align_content": null,
            "align_items": null,
            "align_self": null,
            "border": null,
            "bottom": null,
            "display": null,
            "flex": null,
            "flex_flow": null,
            "grid_area": "right",
            "grid_auto_columns": null,
            "grid_auto_flow": null,
            "grid_auto_rows": null,
            "grid_column": null,
            "grid_gap": null,
            "grid_row": null,
            "grid_template_areas": null,
            "grid_template_columns": null,
            "grid_template_rows": null,
            "height": null,
            "justify_content": null,
            "justify_items": null,
            "left": null,
            "margin": null,
            "max_height": null,
            "max_width": null,
            "min_height": null,
            "min_width": null,
            "object_fit": null,
            "object_position": null,
            "order": null,
            "overflow": null,
            "overflow_x": null,
            "overflow_y": null,
            "padding": null,
            "right": null,
            "top": null,
            "visibility": null,
            "width": null
          }
        },
        "be93e9fb7a614389b8e6400646f685c1": {
          "model_module": "@jupyter-widgets/controls",
          "model_name": "DescriptionStyleModel",
          "model_module_version": "1.5.0",
          "state": {
            "_model_module": "@jupyter-widgets/controls",
            "_model_module_version": "1.5.0",
            "_model_name": "DescriptionStyleModel",
            "_view_count": null,
            "_view_module": "@jupyter-widgets/base",
            "_view_module_version": "1.2.0",
            "_view_name": "StyleView",
            "description_width": ""
          }
        },
        "6a6c9620fca846a6bfa097b6134c3141": {
          "model_module": "@jupyter-widgets/base",
          "model_name": "LayoutModel",
          "model_module_version": "1.2.0",
          "state": {
            "_model_module": "@jupyter-widgets/base",
            "_model_module_version": "1.2.0",
            "_model_name": "LayoutModel",
            "_view_count": null,
            "_view_module": "@jupyter-widgets/base",
            "_view_module_version": "1.2.0",
            "_view_name": "LayoutView",
            "align_content": null,
            "align_items": "center",
            "align_self": null,
            "border": null,
            "bottom": null,
            "display": "flex-inline",
            "flex": null,
            "flex_flow": null,
            "grid_area": null,
            "grid_auto_columns": null,
            "grid_auto_flow": null,
            "grid_auto_rows": null,
            "grid_column": null,
            "grid_gap": null,
            "grid_row": null,
            "grid_template_areas": null,
            "grid_template_columns": null,
            "grid_template_rows": null,
            "height": null,
            "justify_content": null,
            "justify_items": null,
            "left": null,
            "margin": null,
            "max_height": null,
            "max_width": null,
            "min_height": null,
            "min_width": null,
            "object_fit": null,
            "object_position": null,
            "order": null,
            "overflow": null,
            "overflow_x": null,
            "overflow_y": null,
            "padding": null,
            "right": null,
            "top": null,
            "visibility": null,
            "width": null
          }
        },
        "0c6e68c09879467cabc8587f2d49992d": {
          "model_module": "@jupyter-widgets/base",
          "model_name": "LayoutModel",
          "model_module_version": "1.2.0",
          "state": {
            "_model_module": "@jupyter-widgets/base",
            "_model_module_version": "1.2.0",
            "_model_name": "LayoutModel",
            "_view_count": null,
            "_view_module": "@jupyter-widgets/base",
            "_view_module_version": "1.2.0",
            "_view_name": "LayoutView",
            "align_content": null,
            "align_items": "center",
            "align_self": null,
            "border": null,
            "bottom": null,
            "display": "flex-inline",
            "flex": null,
            "flex_flow": null,
            "grid_area": "right",
            "grid_auto_columns": null,
            "grid_auto_flow": null,
            "grid_auto_rows": null,
            "grid_column": null,
            "grid_gap": null,
            "grid_row": null,
            "grid_template_areas": null,
            "grid_template_columns": null,
            "grid_template_rows": null,
            "height": null,
            "justify_content": null,
            "justify_items": null,
            "left": null,
            "margin": null,
            "max_height": "325px",
            "max_width": null,
            "min_height": null,
            "min_width": null,
            "object_fit": null,
            "object_position": null,
            "order": null,
            "overflow": null,
            "overflow_x": null,
            "overflow_y": null,
            "padding": "10px 10px 10px 10px",
            "right": null,
            "top": null,
            "visibility": null,
            "width": "auto"
          }
        }
      }
    }
  },
  "nbformat": 4,
  "nbformat_minor": 0
}